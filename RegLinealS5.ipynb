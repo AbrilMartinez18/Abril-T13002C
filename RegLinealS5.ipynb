{
  "nbformat": 4,
  "nbformat_minor": 0,
  "metadata": {
    "colab": {
      "provenance": [],
      "collapsed_sections": [],
      "authorship_tag": "ABX9TyMIZYPHGW75OlthEagTAKey",
      "include_colab_link": true
    },
    "kernelspec": {
      "name": "python3",
      "display_name": "Python 3"
    },
    "language_info": {
      "name": "python"
    }
  },
  "cells": [
    {
      "cell_type": "markdown",
      "metadata": {
        "id": "view-in-github",
        "colab_type": "text"
      },
      "source": [
        "<a href=\"https://colab.research.google.com/github/AbrilMartinez18/Abril-T13002C/blob/main/RegLinealS5.ipynb\" target=\"_parent\"><img src=\"https://colab.research.google.com/assets/colab-badge.svg\" alt=\"Open In Colab\"/></a>"
      ]
    },
    {
      "cell_type": "code",
      "execution_count": 1,
      "metadata": {
        "id": "v-3Okfid0YID"
      },
      "outputs": [],
      "source": [
        "import pandas as pd\n",
        "from pandas import DataFrame as df\n",
        "import numpy as np\n",
        "import matplotlib.pyplot as plt\n",
        "import seaborn as sns"
      ]
    },
    {
      "cell_type": "code",
      "source": [
        "from google.colab import files\n",
        "files.upload()\n"
      ],
      "metadata": {
        "colab": {
          "base_uri": "https://localhost:8080/",
          "height": 130
        },
        "id": "3GtCQ8B70mKg",
        "outputId": "10cfc949-5810-414f-aa87-6b62a74523b4"
      },
      "execution_count": 2,
      "outputs": [
        {
          "output_type": "display_data",
          "data": {
            "text/plain": [
              "<IPython.core.display.HTML object>"
            ],
            "text/html": [
              "\n",
              "     <input type=\"file\" id=\"files-440bf191-bebb-480a-b9d5-7b1f9da70082\" name=\"files[]\" multiple disabled\n",
              "        style=\"border:none\" />\n",
              "     <output id=\"result-440bf191-bebb-480a-b9d5-7b1f9da70082\">\n",
              "      Upload widget is only available when the cell has been executed in the\n",
              "      current browser session. Please rerun this cell to enable.\n",
              "      </output>\n",
              "      <script>// Copyright 2017 Google LLC\n",
              "//\n",
              "// Licensed under the Apache License, Version 2.0 (the \"License\");\n",
              "// you may not use this file except in compliance with the License.\n",
              "// You may obtain a copy of the License at\n",
              "//\n",
              "//      http://www.apache.org/licenses/LICENSE-2.0\n",
              "//\n",
              "// Unless required by applicable law or agreed to in writing, software\n",
              "// distributed under the License is distributed on an \"AS IS\" BASIS,\n",
              "// WITHOUT WARRANTIES OR CONDITIONS OF ANY KIND, either express or implied.\n",
              "// See the License for the specific language governing permissions and\n",
              "// limitations under the License.\n",
              "\n",
              "/**\n",
              " * @fileoverview Helpers for google.colab Python module.\n",
              " */\n",
              "(function(scope) {\n",
              "function span(text, styleAttributes = {}) {\n",
              "  const element = document.createElement('span');\n",
              "  element.textContent = text;\n",
              "  for (const key of Object.keys(styleAttributes)) {\n",
              "    element.style[key] = styleAttributes[key];\n",
              "  }\n",
              "  return element;\n",
              "}\n",
              "\n",
              "// Max number of bytes which will be uploaded at a time.\n",
              "const MAX_PAYLOAD_SIZE = 100 * 1024;\n",
              "\n",
              "function _uploadFiles(inputId, outputId) {\n",
              "  const steps = uploadFilesStep(inputId, outputId);\n",
              "  const outputElement = document.getElementById(outputId);\n",
              "  // Cache steps on the outputElement to make it available for the next call\n",
              "  // to uploadFilesContinue from Python.\n",
              "  outputElement.steps = steps;\n",
              "\n",
              "  return _uploadFilesContinue(outputId);\n",
              "}\n",
              "\n",
              "// This is roughly an async generator (not supported in the browser yet),\n",
              "// where there are multiple asynchronous steps and the Python side is going\n",
              "// to poll for completion of each step.\n",
              "// This uses a Promise to block the python side on completion of each step,\n",
              "// then passes the result of the previous step as the input to the next step.\n",
              "function _uploadFilesContinue(outputId) {\n",
              "  const outputElement = document.getElementById(outputId);\n",
              "  const steps = outputElement.steps;\n",
              "\n",
              "  const next = steps.next(outputElement.lastPromiseValue);\n",
              "  return Promise.resolve(next.value.promise).then((value) => {\n",
              "    // Cache the last promise value to make it available to the next\n",
              "    // step of the generator.\n",
              "    outputElement.lastPromiseValue = value;\n",
              "    return next.value.response;\n",
              "  });\n",
              "}\n",
              "\n",
              "/**\n",
              " * Generator function which is called between each async step of the upload\n",
              " * process.\n",
              " * @param {string} inputId Element ID of the input file picker element.\n",
              " * @param {string} outputId Element ID of the output display.\n",
              " * @return {!Iterable<!Object>} Iterable of next steps.\n",
              " */\n",
              "function* uploadFilesStep(inputId, outputId) {\n",
              "  const inputElement = document.getElementById(inputId);\n",
              "  inputElement.disabled = false;\n",
              "\n",
              "  const outputElement = document.getElementById(outputId);\n",
              "  outputElement.innerHTML = '';\n",
              "\n",
              "  const pickedPromise = new Promise((resolve) => {\n",
              "    inputElement.addEventListener('change', (e) => {\n",
              "      resolve(e.target.files);\n",
              "    });\n",
              "  });\n",
              "\n",
              "  const cancel = document.createElement('button');\n",
              "  inputElement.parentElement.appendChild(cancel);\n",
              "  cancel.textContent = 'Cancel upload';\n",
              "  const cancelPromise = new Promise((resolve) => {\n",
              "    cancel.onclick = () => {\n",
              "      resolve(null);\n",
              "    };\n",
              "  });\n",
              "\n",
              "  // Wait for the user to pick the files.\n",
              "  const files = yield {\n",
              "    promise: Promise.race([pickedPromise, cancelPromise]),\n",
              "    response: {\n",
              "      action: 'starting',\n",
              "    }\n",
              "  };\n",
              "\n",
              "  cancel.remove();\n",
              "\n",
              "  // Disable the input element since further picks are not allowed.\n",
              "  inputElement.disabled = true;\n",
              "\n",
              "  if (!files) {\n",
              "    return {\n",
              "      response: {\n",
              "        action: 'complete',\n",
              "      }\n",
              "    };\n",
              "  }\n",
              "\n",
              "  for (const file of files) {\n",
              "    const li = document.createElement('li');\n",
              "    li.append(span(file.name, {fontWeight: 'bold'}));\n",
              "    li.append(span(\n",
              "        `(${file.type || 'n/a'}) - ${file.size} bytes, ` +\n",
              "        `last modified: ${\n",
              "            file.lastModifiedDate ? file.lastModifiedDate.toLocaleDateString() :\n",
              "                                    'n/a'} - `));\n",
              "    const percent = span('0% done');\n",
              "    li.appendChild(percent);\n",
              "\n",
              "    outputElement.appendChild(li);\n",
              "\n",
              "    const fileDataPromise = new Promise((resolve) => {\n",
              "      const reader = new FileReader();\n",
              "      reader.onload = (e) => {\n",
              "        resolve(e.target.result);\n",
              "      };\n",
              "      reader.readAsArrayBuffer(file);\n",
              "    });\n",
              "    // Wait for the data to be ready.\n",
              "    let fileData = yield {\n",
              "      promise: fileDataPromise,\n",
              "      response: {\n",
              "        action: 'continue',\n",
              "      }\n",
              "    };\n",
              "\n",
              "    // Use a chunked sending to avoid message size limits. See b/62115660.\n",
              "    let position = 0;\n",
              "    do {\n",
              "      const length = Math.min(fileData.byteLength - position, MAX_PAYLOAD_SIZE);\n",
              "      const chunk = new Uint8Array(fileData, position, length);\n",
              "      position += length;\n",
              "\n",
              "      const base64 = btoa(String.fromCharCode.apply(null, chunk));\n",
              "      yield {\n",
              "        response: {\n",
              "          action: 'append',\n",
              "          file: file.name,\n",
              "          data: base64,\n",
              "        },\n",
              "      };\n",
              "\n",
              "      let percentDone = fileData.byteLength === 0 ?\n",
              "          100 :\n",
              "          Math.round((position / fileData.byteLength) * 100);\n",
              "      percent.textContent = `${percentDone}% done`;\n",
              "\n",
              "    } while (position < fileData.byteLength);\n",
              "  }\n",
              "\n",
              "  // All done.\n",
              "  yield {\n",
              "    response: {\n",
              "      action: 'complete',\n",
              "    }\n",
              "  };\n",
              "}\n",
              "\n",
              "scope.google = scope.google || {};\n",
              "scope.google.colab = scope.google.colab || {};\n",
              "scope.google.colab._files = {\n",
              "  _uploadFiles,\n",
              "  _uploadFilesContinue,\n",
              "};\n",
              "})(self);\n",
              "</script> "
            ]
          },
          "metadata": {}
        },
        {
          "output_type": "stream",
          "name": "stdout",
          "text": [
            "Saving car_crashes.csv to car_crashes.csv\n"
          ]
        },
        {
          "output_type": "execute_result",
          "data": {
            "text/plain": [
              "{'car_crashes.csv': b'total,speeding,alcohol,not_distracted,no_previous,ins_premium,ins_losses,abbrev\\r\\n18.8,7.332000000000001,5.64,18.048000000000002,15.04,784.55,145.08,AL\\r\\n18.1,7.421,4.525,16.290000000000003,17.014,1053.48,133.93,AK\\r\\n18.6,6.51,5.208000000000001,15.624,17.856,899.47,110.35,AZ\\r\\n22.4,4.032,5.824,21.055999999999997,21.28,827.34,142.39,AR\\r\\n12.0,4.2,3.36,10.92,10.68,878.41,165.63,CA\\r\\n13.6,5.032,3.8080000000000003,10.743999999999998,12.92,835.5,139.91,CO\\r\\n10.8,4.968,3.888,9.396,8.856,1068.73,167.02,CT\\r\\n16.2,6.156000000000001,4.86,14.094,16.038,1137.87,151.48,DE\\r\\n5.9,2.0060000000000002,1.5930000000000002,5.9,5.9,1273.89,136.05,DC\\r\\n17.9,3.759,5.190999999999999,16.468,16.826,1160.13,144.18,FL\\r\\n15.6,2.964,3.9,14.82,14.508,913.15,142.8,GA\\r\\n17.5,9.45,7.175,14.35,15.225,861.18,120.92,HI\\r\\n15.3,5.508000000000001,4.437,13.005,14.994000000000002,641.96,82.75,ID\\r\\n12.8,4.6080000000000005,4.352,12.032,12.288000000000002,803.11,139.15,IL\\r\\n14.5,3.625,4.205,13.775,13.775,710.46,108.92,IN\\r\\n15.7,2.6689999999999996,3.925,15.229,13.658999999999999,649.06,114.47,IA\\r\\n17.8,4.806,4.272,13.706000000000001,15.13,780.45,133.8,KS\\r\\n21.4,4.066,4.922,16.691999999999997,16.264,872.51,137.13,KY\\r\\n20.5,7.175,6.765,14.965,20.09,1281.55,194.78,LA\\r\\n15.1,5.7379999999999995,4.53,13.137,12.684,661.88,96.57,ME\\r\\n12.5,4.25,4.0,8.875,12.375,1048.78,192.7,MD\\r\\n8.2,1.886,2.87,7.1339999999999995,6.56,1011.14,135.63,MA\\r\\n14.1,3.384,3.948,13.395,10.857000000000001,1110.61,152.26,MI\\r\\n9.6,2.2079999999999997,2.784,8.448,8.448,777.18,133.35,MN\\r\\n17.6,2.64,5.456,1.76,17.6,896.07,155.77,MS\\r\\n16.1,6.923000000000001,5.474000000000001,14.812000000000001,13.524000000000001,790.32,144.45,MO\\r\\n21.4,8.345999999999998,9.415999999999999,17.976,18.189999999999998,816.21,85.15,MT\\r\\n14.9,1.9370000000000003,5.215,13.857000000000001,13.41,732.28,114.82,NE\\r\\n14.7,5.439,4.704,13.965,14.552999999999999,1029.87,138.71,NV\\r\\n11.6,4.06,3.48,10.091999999999999,9.628,746.54,120.21,NH\\r\\n11.2,1.7919999999999998,3.1359999999999997,9.632,8.735999999999999,1301.52,159.85,NJ\\r\\n18.4,3.4959999999999996,4.968,12.328,18.031999999999996,869.85,120.75,NM\\r\\n12.3,3.9360000000000004,3.5670000000000006,10.824000000000002,9.84,1234.31,150.01,NY\\r\\n16.8,6.5520000000000005,5.208000000000001,15.792,13.607999999999999,708.24,127.82,NC\\r\\n23.9,5.496999999999999,10.038,23.660999999999998,20.554000000000002,688.75,109.72,ND\\r\\n14.1,3.948,4.794,13.958999999999998,11.562000000000001,697.73,133.52,OH\\r\\n19.9,6.367999999999999,5.770999999999999,18.308,18.706,881.51,178.86,OK\\r\\n12.8,4.224,3.3280000000000003,8.576,11.52,804.71,104.61,OR\\r\\n18.2,9.1,5.6419999999999995,17.471999999999998,16.016,905.99,153.86,PA\\r\\n11.1,3.7739999999999996,4.218,10.212,8.769,1148.99,148.58,RI\\r\\n23.9,9.081999999999999,9.799,22.943999999999996,19.358999999999998,858.97,116.29,SC\\r\\n19.4,6.013999999999999,6.401999999999999,19.011999999999997,16.683999999999997,669.31,96.87,SD\\r\\n19.5,4.095,5.655,15.99,15.795,767.91,155.57,TN\\r\\n19.4,7.76,7.371999999999999,17.654,16.878,1004.75,156.83,TX\\r\\n11.3,4.859,1.808,9.944,10.848000000000003,809.38,109.48,UT\\r\\n13.6,4.08,4.08,13.056,12.92,716.2,109.61,VT\\r\\n12.7,2.413,3.429,11.049,11.175999999999998,768.95,153.72,VA\\r\\n10.6,4.452,3.498,8.692,9.116,890.03,111.62,WA\\r\\n23.8,8.092,6.664,23.086,20.706,992.61,152.56,WV\\r\\n13.8,4.968,4.554,5.382000000000001,11.592,670.31,106.62,WI\\r\\n17.4,7.308,5.568,14.094,15.659999999999998,791.14,122.04,WY\\r\\n'}"
            ]
          },
          "metadata": {},
          "execution_count": 2
        }
      ]
    },
    {
      "cell_type": "code",
      "source": [
        "df=pd.read_csv(\"car_crashes.csv\")"
      ],
      "metadata": {
        "id": "KOzFfCWv3mVU"
      },
      "execution_count": 3,
      "outputs": []
    },
    {
      "cell_type": "code",
      "source": [
        "df.head(10)"
      ],
      "metadata": {
        "colab": {
          "base_uri": "https://localhost:8080/",
          "height": 363
        },
        "id": "4JL2Iomq37LT",
        "outputId": "f5224cec-a20c-4431-c50e-faa7cff14f43"
      },
      "execution_count": 4,
      "outputs": [
        {
          "output_type": "execute_result",
          "data": {
            "text/plain": [
              "   total  speeding  alcohol  not_distracted  no_previous  ins_premium  \\\n",
              "0   18.8     7.332    5.640          18.048       15.040       784.55   \n",
              "1   18.1     7.421    4.525          16.290       17.014      1053.48   \n",
              "2   18.6     6.510    5.208          15.624       17.856       899.47   \n",
              "3   22.4     4.032    5.824          21.056       21.280       827.34   \n",
              "4   12.0     4.200    3.360          10.920       10.680       878.41   \n",
              "5   13.6     5.032    3.808          10.744       12.920       835.50   \n",
              "6   10.8     4.968    3.888           9.396        8.856      1068.73   \n",
              "7   16.2     6.156    4.860          14.094       16.038      1137.87   \n",
              "8    5.9     2.006    1.593           5.900        5.900      1273.89   \n",
              "9   17.9     3.759    5.191          16.468       16.826      1160.13   \n",
              "\n",
              "   ins_losses abbrev  \n",
              "0      145.08     AL  \n",
              "1      133.93     AK  \n",
              "2      110.35     AZ  \n",
              "3      142.39     AR  \n",
              "4      165.63     CA  \n",
              "5      139.91     CO  \n",
              "6      167.02     CT  \n",
              "7      151.48     DE  \n",
              "8      136.05     DC  \n",
              "9      144.18     FL  "
            ],
            "text/html": [
              "\n",
              "  <div id=\"df-b59e77d9-c0ff-4340-bcdf-8d1dfaacc0a0\">\n",
              "    <div class=\"colab-df-container\">\n",
              "      <div>\n",
              "<style scoped>\n",
              "    .dataframe tbody tr th:only-of-type {\n",
              "        vertical-align: middle;\n",
              "    }\n",
              "\n",
              "    .dataframe tbody tr th {\n",
              "        vertical-align: top;\n",
              "    }\n",
              "\n",
              "    .dataframe thead th {\n",
              "        text-align: right;\n",
              "    }\n",
              "</style>\n",
              "<table border=\"1\" class=\"dataframe\">\n",
              "  <thead>\n",
              "    <tr style=\"text-align: right;\">\n",
              "      <th></th>\n",
              "      <th>total</th>\n",
              "      <th>speeding</th>\n",
              "      <th>alcohol</th>\n",
              "      <th>not_distracted</th>\n",
              "      <th>no_previous</th>\n",
              "      <th>ins_premium</th>\n",
              "      <th>ins_losses</th>\n",
              "      <th>abbrev</th>\n",
              "    </tr>\n",
              "  </thead>\n",
              "  <tbody>\n",
              "    <tr>\n",
              "      <th>0</th>\n",
              "      <td>18.8</td>\n",
              "      <td>7.332</td>\n",
              "      <td>5.640</td>\n",
              "      <td>18.048</td>\n",
              "      <td>15.040</td>\n",
              "      <td>784.55</td>\n",
              "      <td>145.08</td>\n",
              "      <td>AL</td>\n",
              "    </tr>\n",
              "    <tr>\n",
              "      <th>1</th>\n",
              "      <td>18.1</td>\n",
              "      <td>7.421</td>\n",
              "      <td>4.525</td>\n",
              "      <td>16.290</td>\n",
              "      <td>17.014</td>\n",
              "      <td>1053.48</td>\n",
              "      <td>133.93</td>\n",
              "      <td>AK</td>\n",
              "    </tr>\n",
              "    <tr>\n",
              "      <th>2</th>\n",
              "      <td>18.6</td>\n",
              "      <td>6.510</td>\n",
              "      <td>5.208</td>\n",
              "      <td>15.624</td>\n",
              "      <td>17.856</td>\n",
              "      <td>899.47</td>\n",
              "      <td>110.35</td>\n",
              "      <td>AZ</td>\n",
              "    </tr>\n",
              "    <tr>\n",
              "      <th>3</th>\n",
              "      <td>22.4</td>\n",
              "      <td>4.032</td>\n",
              "      <td>5.824</td>\n",
              "      <td>21.056</td>\n",
              "      <td>21.280</td>\n",
              "      <td>827.34</td>\n",
              "      <td>142.39</td>\n",
              "      <td>AR</td>\n",
              "    </tr>\n",
              "    <tr>\n",
              "      <th>4</th>\n",
              "      <td>12.0</td>\n",
              "      <td>4.200</td>\n",
              "      <td>3.360</td>\n",
              "      <td>10.920</td>\n",
              "      <td>10.680</td>\n",
              "      <td>878.41</td>\n",
              "      <td>165.63</td>\n",
              "      <td>CA</td>\n",
              "    </tr>\n",
              "    <tr>\n",
              "      <th>5</th>\n",
              "      <td>13.6</td>\n",
              "      <td>5.032</td>\n",
              "      <td>3.808</td>\n",
              "      <td>10.744</td>\n",
              "      <td>12.920</td>\n",
              "      <td>835.50</td>\n",
              "      <td>139.91</td>\n",
              "      <td>CO</td>\n",
              "    </tr>\n",
              "    <tr>\n",
              "      <th>6</th>\n",
              "      <td>10.8</td>\n",
              "      <td>4.968</td>\n",
              "      <td>3.888</td>\n",
              "      <td>9.396</td>\n",
              "      <td>8.856</td>\n",
              "      <td>1068.73</td>\n",
              "      <td>167.02</td>\n",
              "      <td>CT</td>\n",
              "    </tr>\n",
              "    <tr>\n",
              "      <th>7</th>\n",
              "      <td>16.2</td>\n",
              "      <td>6.156</td>\n",
              "      <td>4.860</td>\n",
              "      <td>14.094</td>\n",
              "      <td>16.038</td>\n",
              "      <td>1137.87</td>\n",
              "      <td>151.48</td>\n",
              "      <td>DE</td>\n",
              "    </tr>\n",
              "    <tr>\n",
              "      <th>8</th>\n",
              "      <td>5.9</td>\n",
              "      <td>2.006</td>\n",
              "      <td>1.593</td>\n",
              "      <td>5.900</td>\n",
              "      <td>5.900</td>\n",
              "      <td>1273.89</td>\n",
              "      <td>136.05</td>\n",
              "      <td>DC</td>\n",
              "    </tr>\n",
              "    <tr>\n",
              "      <th>9</th>\n",
              "      <td>17.9</td>\n",
              "      <td>3.759</td>\n",
              "      <td>5.191</td>\n",
              "      <td>16.468</td>\n",
              "      <td>16.826</td>\n",
              "      <td>1160.13</td>\n",
              "      <td>144.18</td>\n",
              "      <td>FL</td>\n",
              "    </tr>\n",
              "  </tbody>\n",
              "</table>\n",
              "</div>\n",
              "      <button class=\"colab-df-convert\" onclick=\"convertToInteractive('df-b59e77d9-c0ff-4340-bcdf-8d1dfaacc0a0')\"\n",
              "              title=\"Convert this dataframe to an interactive table.\"\n",
              "              style=\"display:none;\">\n",
              "        \n",
              "  <svg xmlns=\"http://www.w3.org/2000/svg\" height=\"24px\"viewBox=\"0 0 24 24\"\n",
              "       width=\"24px\">\n",
              "    <path d=\"M0 0h24v24H0V0z\" fill=\"none\"/>\n",
              "    <path d=\"M18.56 5.44l.94 2.06.94-2.06 2.06-.94-2.06-.94-.94-2.06-.94 2.06-2.06.94zm-11 1L8.5 8.5l.94-2.06 2.06-.94-2.06-.94L8.5 2.5l-.94 2.06-2.06.94zm10 10l.94 2.06.94-2.06 2.06-.94-2.06-.94-.94-2.06-.94 2.06-2.06.94z\"/><path d=\"M17.41 7.96l-1.37-1.37c-.4-.4-.92-.59-1.43-.59-.52 0-1.04.2-1.43.59L10.3 9.45l-7.72 7.72c-.78.78-.78 2.05 0 2.83L4 21.41c.39.39.9.59 1.41.59.51 0 1.02-.2 1.41-.59l7.78-7.78 2.81-2.81c.8-.78.8-2.07 0-2.86zM5.41 20L4 18.59l7.72-7.72 1.47 1.35L5.41 20z\"/>\n",
              "  </svg>\n",
              "      </button>\n",
              "      \n",
              "  <style>\n",
              "    .colab-df-container {\n",
              "      display:flex;\n",
              "      flex-wrap:wrap;\n",
              "      gap: 12px;\n",
              "    }\n",
              "\n",
              "    .colab-df-convert {\n",
              "      background-color: #E8F0FE;\n",
              "      border: none;\n",
              "      border-radius: 50%;\n",
              "      cursor: pointer;\n",
              "      display: none;\n",
              "      fill: #1967D2;\n",
              "      height: 32px;\n",
              "      padding: 0 0 0 0;\n",
              "      width: 32px;\n",
              "    }\n",
              "\n",
              "    .colab-df-convert:hover {\n",
              "      background-color: #E2EBFA;\n",
              "      box-shadow: 0px 1px 2px rgba(60, 64, 67, 0.3), 0px 1px 3px 1px rgba(60, 64, 67, 0.15);\n",
              "      fill: #174EA6;\n",
              "    }\n",
              "\n",
              "    [theme=dark] .colab-df-convert {\n",
              "      background-color: #3B4455;\n",
              "      fill: #D2E3FC;\n",
              "    }\n",
              "\n",
              "    [theme=dark] .colab-df-convert:hover {\n",
              "      background-color: #434B5C;\n",
              "      box-shadow: 0px 1px 3px 1px rgba(0, 0, 0, 0.15);\n",
              "      filter: drop-shadow(0px 1px 2px rgba(0, 0, 0, 0.3));\n",
              "      fill: #FFFFFF;\n",
              "    }\n",
              "  </style>\n",
              "\n",
              "      <script>\n",
              "        const buttonEl =\n",
              "          document.querySelector('#df-b59e77d9-c0ff-4340-bcdf-8d1dfaacc0a0 button.colab-df-convert');\n",
              "        buttonEl.style.display =\n",
              "          google.colab.kernel.accessAllowed ? 'block' : 'none';\n",
              "\n",
              "        async function convertToInteractive(key) {\n",
              "          const element = document.querySelector('#df-b59e77d9-c0ff-4340-bcdf-8d1dfaacc0a0');\n",
              "          const dataTable =\n",
              "            await google.colab.kernel.invokeFunction('convertToInteractive',\n",
              "                                                     [key], {});\n",
              "          if (!dataTable) return;\n",
              "\n",
              "          const docLinkHtml = 'Like what you see? Visit the ' +\n",
              "            '<a target=\"_blank\" href=https://colab.research.google.com/notebooks/data_table.ipynb>data table notebook</a>'\n",
              "            + ' to learn more about interactive tables.';\n",
              "          element.innerHTML = '';\n",
              "          dataTable['output_type'] = 'display_data';\n",
              "          await google.colab.output.renderOutput(dataTable, element);\n",
              "          const docLink = document.createElement('div');\n",
              "          docLink.innerHTML = docLinkHtml;\n",
              "          element.appendChild(docLink);\n",
              "        }\n",
              "      </script>\n",
              "    </div>\n",
              "  </div>\n",
              "  "
            ]
          },
          "metadata": {},
          "execution_count": 4
        }
      ]
    },
    {
      "cell_type": "code",
      "source": [
        "from turtle import color\n",
        "sns.scatterplot(x='alcohol', y='total',color='lightblue',data=df)"
      ],
      "metadata": {
        "colab": {
          "base_uri": "https://localhost:8080/",
          "height": 297
        },
        "id": "HmWMcvu14Vmm",
        "outputId": "c4fffc87-9627-49c6-886e-6e62e64964c4"
      },
      "execution_count": 5,
      "outputs": [
        {
          "output_type": "execute_result",
          "data": {
            "text/plain": [
              "<matplotlib.axes._subplots.AxesSubplot at 0x7f2ddbceafd0>"
            ]
          },
          "metadata": {},
          "execution_count": 5
        },
        {
          "output_type": "display_data",
          "data": {
            "text/plain": [
              "<Figure size 432x288 with 1 Axes>"
            ],
            "image/png": "[encoded data removed]"
          },
          "metadata": {
            "needs_background": "light"
          }
        }
      ]
    },
    {
      "cell_type": "markdown",
      "source": [
        "##**SCATTERPLOTS DE EXPERIMENTO**"
      ],
      "metadata": {
        "id": "gzrq7FUl4vfQ"
      }
    },
    {
      "cell_type": "code",
      "source": [
        "g2=sns.scatterplot(x='speeding', y='total',color='#fb6300',data=df).set(title='Speeding vs. total')"
      ],
      "metadata": {
        "colab": {
          "base_uri": "https://localhost:8080/",
          "height": 295
        },
        "id": "iKwzaICO4zrn",
        "outputId": "72555f0b-42d3-4938-db60-9708743690d8"
      },
      "execution_count": 6,
      "outputs": [
        {
          "output_type": "display_data",
          "data": {
            "text/plain": [
              "<Figure size 432x288 with 1 Axes>"
            ],
            "image/png": "[encoded data removed]"
          },
          "metadata": {
            "needs_background": "light"
          }
        }
      ]
    },
    {
      "cell_type": "code",
      "source": [
        "g3=sns.scatterplot(x='ins_premium', y='total',color='#cf566a',data=df).set(title='Ins_premium vs. total')"
      ],
      "metadata": {
        "colab": {
          "base_uri": "https://localhost:8080/",
          "height": 296
        },
        "id": "iIgwm8SQ5he1",
        "outputId": "af9dd904-62de-4cf1-e6cf-3721ced10a27"
      },
      "execution_count": 7,
      "outputs": [
        {
          "output_type": "display_data",
          "data": {
            "text/plain": [
              "<Figure size 432x288 with 1 Axes>"
            ],
            "image/png": "[encoded data removed]"
          },
          "metadata": {
            "needs_background": "light"
          }
        }
      ]
    },
    {
      "cell_type": "code",
      "source": [
        "g3=sns.scatterplot(x='not_distracted', y='total',color='#be4669',data=df).set(title='Not Distracted vs. total')"
      ],
      "metadata": {
        "colab": {
          "base_uri": "https://localhost:8080/",
          "height": 296
        },
        "id": "5VognRGZ6B0X",
        "outputId": "d2c99e35-4543-4fd0-eda1-013de23d7448"
      },
      "execution_count": 8,
      "outputs": [
        {
          "output_type": "display_data",
          "data": {
            "text/plain": [
              "<Figure size 432x288 with 1 Axes>"
            ],
            "image/png": "[encoded data removed]"
          },
          "metadata": {
            "needs_background": "light"
          }
        }
      ]
    },
    {
      "cell_type": "code",
      "source": [
        "g4=sns.scatterplot(x='ins_losses', y='total',color='darkgreen',data=df).set(title='Insurance losses vs. total')"
      ],
      "metadata": {
        "colab": {
          "base_uri": "https://localhost:8080/",
          "height": 296
        },
        "id": "W4cEqbvm6gzh",
        "outputId": "fc4d6214-09dc-4872-caa7-b1413454a0ba"
      },
      "execution_count": 9,
      "outputs": [
        {
          "output_type": "display_data",
          "data": {
            "text/plain": [
              "<Figure size 432x288 with 1 Axes>"
            ],
            "image/png": "[encoded data removed]"
          },
          "metadata": {
            "needs_background": "light"
          }
        }
      ]
    },
    {
      "cell_type": "code",
      "source": [
        "g5=sns.scatterplot(x='no_previous', y='total',color='magenta',data=df).set(title='Number of previous vs. total')"
      ],
      "metadata": {
        "colab": {
          "base_uri": "https://localhost:8080/",
          "height": 296
        },
        "id": "_D1kQ_7j6yvR",
        "outputId": "49fd1756-93df-4431-9556-34527f57e83f"
      },
      "execution_count": 10,
      "outputs": [
        {
          "output_type": "display_data",
          "data": {
            "text/plain": [
              "<Figure size 432x288 with 1 Axes>"
            ],
            "image/png": "[encoded data removed]"
          },
          "metadata": {
            "needs_background": "light"
          }
        }
      ]
    },
    {
      "cell_type": "code",
      "source": [
        "g6=sns.scatterplot(x='not_distracted', y='total',color='#412ecc',data=df).set(title='Not Distracted vs. total')"
      ],
      "metadata": {
        "colab": {
          "base_uri": "https://localhost:8080/",
          "height": 296
        },
        "id": "_R_Kbkn47AkT",
        "outputId": "6a41cd4f-3a2c-4155-e845-54d05eff4900"
      },
      "execution_count": 11,
      "outputs": [
        {
          "output_type": "display_data",
          "data": {
            "text/plain": [
              "<Figure size 432x288 with 1 Axes>"
            ],
            "image/png": "[encoded data removed]"
          },
          "metadata": {
            "needs_background": "light"
          }
        }
      ]
    },
    {
      "cell_type": "markdown",
      "source": [
        "##**REVIEW RL**"
      ],
      "metadata": {
        "id": "Pvos0mnw8ala"
      }
    },
    {
      "cell_type": "code",
      "source": [
        "Vars_Indep=df[['alcohol']]\n",
        "Var_Dep=df['total']"
      ],
      "metadata": {
        "id": "dI6Lv_Sa8mst"
      },
      "execution_count": 12,
      "outputs": []
    },
    {
      "cell_type": "code",
      "source": [
        "from sklearn.linear_model import LinearRegression\n",
        "model=LinearRegression()"
      ],
      "metadata": {
        "id": "o06acxzg9JB-"
      },
      "execution_count": 13,
      "outputs": []
    },
    {
      "cell_type": "code",
      "source": [
        "type(model)"
      ],
      "metadata": {
        "colab": {
          "base_uri": "https://localhost:8080/"
        },
        "id": "OEF6e0jV9LbJ",
        "outputId": "b11aaf71-dd36-4776-ef35-148661e728e6"
      },
      "execution_count": 14,
      "outputs": [
        {
          "output_type": "execute_result",
          "data": {
            "text/plain": [
              "sklearn.linear_model._base.LinearRegression"
            ]
          },
          "metadata": {},
          "execution_count": 14
        }
      ]
    },
    {
      "cell_type": "code",
      "source": [
        "model.fit(X=Vars_Indep,y=Var_Dep)"
      ],
      "metadata": {
        "colab": {
          "base_uri": "https://localhost:8080/"
        },
        "id": "hkzFML1Y9QIC",
        "outputId": "bddba249-4913-4d82-a569-a6099e06eceb"
      },
      "execution_count": 15,
      "outputs": [
        {
          "output_type": "execute_result",
          "data": {
            "text/plain": [
              "LinearRegression()"
            ]
          },
          "metadata": {},
          "execution_count": 15
        }
      ]
    },
    {
      "cell_type": "markdown",
      "source": [
        "##**TRIAL 1**"
      ],
      "metadata": {
        "id": "Xg8iChFE_Prv"
      }
    },
    {
      "cell_type": "code",
      "source": [
        "#lo mismo que el coeficiente de correlación de pearson\n",
        "model.score(Vars_Indep,Var_Dep)"
      ],
      "metadata": {
        "colab": {
          "base_uri": "https://localhost:8080/"
        },
        "id": "sQREUi-Z-2df",
        "outputId": "9255a46c-586b-4738-ab13-d1917d287fb1"
      },
      "execution_count": 34,
      "outputs": [
        {
          "output_type": "execute_result",
          "data": {
            "text/plain": [
              "0.7269492966665405"
            ]
          },
          "metadata": {},
          "execution_count": 34
        }
      ]
    },
    {
      "cell_type": "code",
      "source": [
        "model.__dict__"
      ],
      "metadata": {
        "colab": {
          "base_uri": "https://localhost:8080/"
        },
        "id": "-eVHQhC4-rsy",
        "outputId": "fd10eea3-c186-4321-d671-9847c4d952b6"
      },
      "execution_count": 17,
      "outputs": [
        {
          "output_type": "execute_result",
          "data": {
            "text/plain": [
              "{'fit_intercept': True,\n",
              " 'normalize': 'deprecated',\n",
              " 'copy_X': True,\n",
              " 'n_jobs': None,\n",
              " 'positive': False,\n",
              " 'feature_names_in_': array(['alcohol'], dtype=object),\n",
              " 'n_features_in_': 1,\n",
              " 'coef_': array([2.0325063]),\n",
              " '_residues': 231.9688865331006,\n",
              " 'rank_': 1,\n",
              " 'singular_': array([12.22681605]),\n",
              " 'intercept_': 5.857776154826299}"
            ]
          },
          "metadata": {},
          "execution_count": 17
        }
      ]
    },
    {
      "cell_type": "code",
      "source": [
        "Vars_Indep2=df[['speeding']]\n",
        "Vars_Indep3=df[['ins_premium']]\n",
        "Vars_Indep4=df[['not_distracted']]\n",
        "Vars_Indep5=df[['no_previous']]\n",
        "Vars_Indep6=df[['ins_losses']]"
      ],
      "metadata": {
        "id": "Sz7p7fJj_Ty3"
      },
      "execution_count": 18,
      "outputs": []
    },
    {
      "cell_type": "code",
      "source": [
        "model2=LinearRegression()\n",
        "model2.fit(X=Vars_Indep2,y=Var_Dep)\n",
        "model2.__dict__"
      ],
      "metadata": {
        "colab": {
          "base_uri": "https://localhost:8080/"
        },
        "id": "3Tldgdy2_4-Z",
        "outputId": "0c72f351-103f-4a18-e9a9-badc4bfe16d8"
      },
      "execution_count": 19,
      "outputs": [
        {
          "output_type": "execute_result",
          "data": {
            "text/plain": [
              "{'fit_intercept': True,\n",
              " 'normalize': 'deprecated',\n",
              " 'copy_X': True,\n",
              " 'n_jobs': None,\n",
              " 'positive': False,\n",
              " 'feature_names_in_': array(['speeding'], dtype=object),\n",
              " 'n_features_in_': 1,\n",
              " 'coef_': array([1.24931442]),\n",
              " '_residues': 531.8233291987199,\n",
              " 'rank_': 1,\n",
              " 'singular_': array([14.2676265]),\n",
              " 'intercept_': 9.545877626552604}"
            ]
          },
          "metadata": {},
          "execution_count": 19
        }
      ]
    },
    {
      "cell_type": "code",
      "source": [
        "model2.score(Vars_Indep2,Var_Dep)"
      ],
      "metadata": {
        "colab": {
          "base_uri": "https://localhost:8080/"
        },
        "id": "WJszIugtAUX7",
        "outputId": "bcd22362-ec15-4712-862c-31118b9aac7b"
      },
      "execution_count": 20,
      "outputs": [
        {
          "output_type": "execute_result",
          "data": {
            "text/plain": [
              "0.37399046804438096"
            ]
          },
          "metadata": {},
          "execution_count": 20
        }
      ]
    },
    {
      "cell_type": "code",
      "source": [
        "model3=LinearRegression()\n",
        "model3.fit(X=Vars_Indep3,y=Var_Dep)\n",
        "model3.__dict__"
      ],
      "metadata": {
        "colab": {
          "base_uri": "https://localhost:8080/"
        },
        "id": "HKPJES5VAdJD",
        "outputId": "9e3025f6-6322-4933-878d-8f8ec034413a"
      },
      "execution_count": 21,
      "outputs": [
        {
          "output_type": "execute_result",
          "data": {
            "text/plain": [
              "{'fit_intercept': True,\n",
              " 'normalize': 'deprecated',\n",
              " 'copy_X': True,\n",
              " 'n_jobs': None,\n",
              " 'positive': False,\n",
              " 'feature_names_in_': array(['ins_premium'], dtype=object),\n",
              " 'n_features_in_': 1,\n",
              " 'coef_': array([-0.00461688]),\n",
              " '_residues': 815.6645028783664,\n",
              " 'rank_': 1,\n",
              " 'singular_': array([1260.74512036]),\n",
              " 'intercept_': 19.885169637083333}"
            ]
          },
          "metadata": {},
          "execution_count": 21
        }
      ]
    },
    {
      "cell_type": "code",
      "source": [
        "model3.score(Vars_Indep3,Var_Dep)"
      ],
      "metadata": {
        "colab": {
          "base_uri": "https://localhost:8080/"
        },
        "id": "SjqoPy8bAe2O",
        "outputId": "85731c61-5aa0-4514-c9c3-ff5b311f7a31"
      },
      "execution_count": 22,
      "outputs": [
        {
          "output_type": "execute_result",
          "data": {
            "text/plain": [
              "0.03988086711234895"
            ]
          },
          "metadata": {},
          "execution_count": 22
        }
      ]
    },
    {
      "cell_type": "code",
      "source": [
        "model4=LinearRegression()\n",
        "model4.fit(X=Vars_Indep4,y=Var_Dep)\n",
        "model4.__dict__"
      ],
      "metadata": {
        "colab": {
          "base_uri": "https://localhost:8080/"
        },
        "id": "KwkOKP-YArng",
        "outputId": "9ec28cd5-a0ad-414d-812c-2edb83b41d32"
      },
      "execution_count": 23,
      "outputs": [
        {
          "output_type": "execute_result",
          "data": {
            "text/plain": [
              "{'fit_intercept': True,\n",
              " 'normalize': 'deprecated',\n",
              " 'copy_X': True,\n",
              " 'n_jobs': None,\n",
              " 'positive': False,\n",
              " 'feature_names_in_': array(['not_distracted'], dtype=object),\n",
              " 'n_features_in_': 1,\n",
              " 'coef_': array([0.75653646]),\n",
              " '_residues': 267.7289245486287,\n",
              " 'rank_': 1,\n",
              " 'singular_': array([31.88328273]),\n",
              " 'intercept_': 5.5215931626388794}"
            ]
          },
          "metadata": {},
          "execution_count": 23
        }
      ]
    },
    {
      "cell_type": "code",
      "source": [
        "model4.score(Vars_Indep4,Var_Dep)"
      ],
      "metadata": {
        "colab": {
          "base_uri": "https://localhost:8080/"
        },
        "id": "R16KYU5iArzb",
        "outputId": "29fd906e-a403-461e-a771-e7f52ad1e63a"
      },
      "execution_count": 24,
      "outputs": [
        {
          "output_type": "execute_result",
          "data": {
            "text/plain": [
              "0.6848561363410162"
            ]
          },
          "metadata": {},
          "execution_count": 24
        }
      ]
    },
    {
      "cell_type": "code",
      "source": [
        "model5=LinearRegression()\n",
        "model5.fit(X=Vars_Indep5,y=Var_Dep)\n",
        "model5.__dict__"
      ],
      "metadata": {
        "colab": {
          "base_uri": "https://localhost:8080/"
        },
        "id": "wio7o53TBP7x",
        "outputId": "f6dc01d9-3d14-46f0-c0af-5c762c6877db"
      },
      "execution_count": 25,
      "outputs": [
        {
          "output_type": "execute_result",
          "data": {
            "text/plain": [
              "{'fit_intercept': True,\n",
              " 'normalize': 'deprecated',\n",
              " 'copy_X': True,\n",
              " 'n_jobs': None,\n",
              " 'positive': False,\n",
              " 'feature_names_in_': array(['no_previous'], dtype=object),\n",
              " 'n_features_in_': 1,\n",
              " 'coef_': array([1.04693656]),\n",
              " '_residues': 72.82418337046255,\n",
              " 'rank_': 1,\n",
              " 'singular_': array([26.62025029]),\n",
              " 'intercept_': 1.1279727489308033}"
            ]
          },
          "metadata": {},
          "execution_count": 25
        }
      ]
    },
    {
      "cell_type": "code",
      "source": [
        "model5.score(Vars_Indep5,Var_Dep)"
      ],
      "metadata": {
        "colab": {
          "base_uri": "https://localhost:8080/"
        },
        "id": "zfTBB1KRBQI5",
        "outputId": "63f53282-d214-4216-e875-1fbd5ef3b2f6"
      },
      "execution_count": 26,
      "outputs": [
        {
          "output_type": "execute_result",
          "data": {
            "text/plain": [
              "0.9142786138857799"
            ]
          },
          "metadata": {},
          "execution_count": 26
        }
      ]
    },
    {
      "cell_type": "code",
      "source": [
        "model6=LinearRegression()\n",
        "model6.fit(X=Vars_Indep6,y=Var_Dep)\n",
        "model6.__dict__"
      ],
      "metadata": {
        "colab": {
          "base_uri": "https://localhost:8080/"
        },
        "id": "OQT7j1YeBctG",
        "outputId": "defb5803-e4a8-4e16-e6c7-400d37cafbea"
      },
      "execution_count": 27,
      "outputs": [
        {
          "output_type": "execute_result",
          "data": {
            "text/plain": [
              "{'fit_intercept': True,\n",
              " 'normalize': 'deprecated',\n",
              " 'copy_X': True,\n",
              " 'n_jobs': None,\n",
              " 'positive': False,\n",
              " 'feature_names_in_': array(['ins_losses'], dtype=object),\n",
              " 'n_features_in_': 1,\n",
              " 'coef_': array([-0.00597674]),\n",
              " '_residues': 848.4434096541066,\n",
              " 'rank_': 1,\n",
              " 'singular_': array([175.6164921]),\n",
              " 'intercept_': 16.59402608044081}"
            ]
          },
          "metadata": {},
          "execution_count": 27
        }
      ]
    },
    {
      "cell_type": "code",
      "source": [
        "model6.score(Vars_Indep6,Var_Dep)"
      ],
      "metadata": {
        "colab": {
          "base_uri": "https://localhost:8080/"
        },
        "id": "EjFP7nbXBc2_",
        "outputId": "3a93c5b2-7936-4112-8529-ba4e5ea0cbbe"
      },
      "execution_count": 28,
      "outputs": [
        {
          "output_type": "execute_result",
          "data": {
            "text/plain": [
              "0.0012967980012502656"
            ]
          },
          "metadata": {},
          "execution_count": 28
        }
      ]
    },
    {
      "cell_type": "markdown",
      "source": [
        "##**MODELO PREDICTIVO**"
      ],
      "metadata": {
        "id": "y2mLKVXVvc_R"
      }
    },
    {
      "cell_type": "code",
      "source": [
        "y_pred=model.predict(X=df[['alcohol']])\n",
        "y_pred"
      ],
      "metadata": {
        "colab": {
          "base_uri": "https://localhost:8080/"
        },
        "id": "GXRUZyQWvgMR",
        "outputId": "3b050a40-c146-4ca7-ea4c-a5127e914f27"
      },
      "execution_count": 29,
      "outputs": [
        {
          "output_type": "execute_result",
          "data": {
            "text/plain": [
              "array([17.32111171, 15.05486718, 16.44306899, 17.69509287, 12.68699734,\n",
              "       13.59756016, 13.76016066, 15.73575679,  9.0955587 , 16.40851638,\n",
              "       13.78455074, 20.44100889, 14.87600663, 14.70324359, 14.40446516,\n",
              "       13.8353634 , 14.54064309, 15.86177218, 19.6076813 , 15.06502971,\n",
              "       13.98780137, 11.69106925, 13.88211104, 11.5162737 , 16.94713055,\n",
              "       16.98371566, 24.99585551, 16.45729653, 15.41868581, 12.93089809,\n",
              "       12.23171592, 15.95526747, 13.10772614, 16.44306899, 26.26007443,\n",
              "       15.60161138, 17.58737003, 12.62195713, 17.32517672, 14.43088774,\n",
              "       25.77430543, 18.86988151, 17.3515993 , 20.84141263,  9.53254755,\n",
              "       14.15040187, 12.82724027, 12.96748321, 19.40239816, 15.11380986,\n",
              "       17.17477126])"
            ]
          },
          "metadata": {},
          "execution_count": 29
        }
      ]
    },
    {
      "cell_type": "code",
      "source": [
        "#COEF DE DET R^2\n",
        "import math\n",
        "m=math.sqrt(.72695)\n",
        "print(m)"
      ],
      "metadata": {
        "colab": {
          "base_uri": "https://localhost:8080/"
        },
        "id": "5c-5nN12wgcn",
        "outputId": "25fc284e-491f-470d-b93b-4974427cc6e2"
      },
      "execution_count": 35,
      "outputs": [
        {
          "output_type": "stream",
          "name": "stdout",
          "text": [
            "0.8526136287909079\n"
          ]
        }
      ]
    },
    {
      "cell_type": "code",
      "source": [
        "df.insert(0,'Predicciones',y_pred)"
      ],
      "metadata": {
        "id": "gGZwsgL9xGBt"
      },
      "execution_count": 36,
      "outputs": []
    },
    {
      "cell_type": "code",
      "source": [
        "df"
      ],
      "metadata": {
        "colab": {
          "base_uri": "https://localhost:8080/",
          "height": 1000
        },
        "id": "fqSyeLINxYZR",
        "outputId": "8a6d7f85-b866-4958-a6af-55f895c0ae90"
      },
      "execution_count": 37,
      "outputs": [
        {
          "output_type": "execute_result",
          "data": {
            "text/plain": [
              "    Predicciones  total  speeding  alcohol  not_distracted  no_previous  \\\n",
              "0      17.321112   18.8     7.332    5.640          18.048       15.040   \n",
              "1      15.054867   18.1     7.421    4.525          16.290       17.014   \n",
              "2      16.443069   18.6     6.510    5.208          15.624       17.856   \n",
              "3      17.695093   22.4     4.032    5.824          21.056       21.280   \n",
              "4      12.686997   12.0     4.200    3.360          10.920       10.680   \n",
              "5      13.597560   13.6     5.032    3.808          10.744       12.920   \n",
              "6      13.760161   10.8     4.968    3.888           9.396        8.856   \n",
              "7      15.735757   16.2     6.156    4.860          14.094       16.038   \n",
              "8       9.095559    5.9     2.006    1.593           5.900        5.900   \n",
              "9      16.408516   17.9     3.759    5.191          16.468       16.826   \n",
              "10     13.784551   15.6     2.964    3.900          14.820       14.508   \n",
              "11     20.441009   17.5     9.450    7.175          14.350       15.225   \n",
              "12     14.876007   15.3     5.508    4.437          13.005       14.994   \n",
              "13     14.703244   12.8     4.608    4.352          12.032       12.288   \n",
              "14     14.404465   14.5     3.625    4.205          13.775       13.775   \n",
              "15     13.835363   15.7     2.669    3.925          15.229       13.659   \n",
              "16     14.540643   17.8     4.806    4.272          13.706       15.130   \n",
              "17     15.861772   21.4     4.066    4.922          16.692       16.264   \n",
              "18     19.607681   20.5     7.175    6.765          14.965       20.090   \n",
              "19     15.065030   15.1     5.738    4.530          13.137       12.684   \n",
              "20     13.987801   12.5     4.250    4.000           8.875       12.375   \n",
              "21     11.691069    8.2     1.886    2.870           7.134        6.560   \n",
              "22     13.882111   14.1     3.384    3.948          13.395       10.857   \n",
              "23     11.516274    9.6     2.208    2.784           8.448        8.448   \n",
              "24     16.947131   17.6     2.640    5.456           1.760       17.600   \n",
              "25     16.983716   16.1     6.923    5.474          14.812       13.524   \n",
              "26     24.995856   21.4     8.346    9.416          17.976       18.190   \n",
              "27     16.457297   14.9     1.937    5.215          13.857       13.410   \n",
              "28     15.418686   14.7     5.439    4.704          13.965       14.553   \n",
              "29     12.930898   11.6     4.060    3.480          10.092        9.628   \n",
              "30     12.231716   11.2     1.792    3.136           9.632        8.736   \n",
              "31     15.955267   18.4     3.496    4.968          12.328       18.032   \n",
              "32     13.107726   12.3     3.936    3.567          10.824        9.840   \n",
              "33     16.443069   16.8     6.552    5.208          15.792       13.608   \n",
              "34     26.260074   23.9     5.497   10.038          23.661       20.554   \n",
              "35     15.601611   14.1     3.948    4.794          13.959       11.562   \n",
              "36     17.587370   19.9     6.368    5.771          18.308       18.706   \n",
              "37     12.621957   12.8     4.224    3.328           8.576       11.520   \n",
              "38     17.325177   18.2     9.100    5.642          17.472       16.016   \n",
              "39     14.430888   11.1     3.774    4.218          10.212        8.769   \n",
              "40     25.774305   23.9     9.082    9.799          22.944       19.359   \n",
              "41     18.869882   19.4     6.014    6.402          19.012       16.684   \n",
              "42     17.351599   19.5     4.095    5.655          15.990       15.795   \n",
              "43     20.841413   19.4     7.760    7.372          17.654       16.878   \n",
              "44      9.532548   11.3     4.859    1.808           9.944       10.848   \n",
              "45     14.150402   13.6     4.080    4.080          13.056       12.920   \n",
              "46     12.827240   12.7     2.413    3.429          11.049       11.176   \n",
              "47     12.967483   10.6     4.452    3.498           8.692        9.116   \n",
              "48     19.402398   23.8     8.092    6.664          23.086       20.706   \n",
              "49     15.113810   13.8     4.968    4.554           5.382       11.592   \n",
              "50     17.174771   17.4     7.308    5.568          14.094       15.660   \n",
              "\n",
              "    ins_premium  ins_losses abbrev  \n",
              "0        784.55      145.08     AL  \n",
              "1       1053.48      133.93     AK  \n",
              "2        899.47      110.35     AZ  \n",
              "3        827.34      142.39     AR  \n",
              "4        878.41      165.63     CA  \n",
              "5        835.50      139.91     CO  \n",
              "6       1068.73      167.02     CT  \n",
              "7       1137.87      151.48     DE  \n",
              "8       1273.89      136.05     DC  \n",
              "9       1160.13      144.18     FL  \n",
              "10       913.15      142.80     GA  \n",
              "11       861.18      120.92     HI  \n",
              "12       641.96       82.75     ID  \n",
              "13       803.11      139.15     IL  \n",
              "14       710.46      108.92     IN  \n",
              "15       649.06      114.47     IA  \n",
              "16       780.45      133.80     KS  \n",
              "17       872.51      137.13     KY  \n",
              "18      1281.55      194.78     LA  \n",
              "19       661.88       96.57     ME  \n",
              "20      1048.78      192.70     MD  \n",
              "21      1011.14      135.63     MA  \n",
              "22      1110.61      152.26     MI  \n",
              "23       777.18      133.35     MN  \n",
              "24       896.07      155.77     MS  \n",
              "25       790.32      144.45     MO  \n",
              "26       816.21       85.15     MT  \n",
              "27       732.28      114.82     NE  \n",
              "28      1029.87      138.71     NV  \n",
              "29       746.54      120.21     NH  \n",
              "30      1301.52      159.85     NJ  \n",
              "31       869.85      120.75     NM  \n",
              "32      1234.31      150.01     NY  \n",
              "33       708.24      127.82     NC  \n",
              "34       688.75      109.72     ND  \n",
              "35       697.73      133.52     OH  \n",
              "36       881.51      178.86     OK  \n",
              "37       804.71      104.61     OR  \n",
              "38       905.99      153.86     PA  \n",
              "39      1148.99      148.58     RI  \n",
              "40       858.97      116.29     SC  \n",
              "41       669.31       96.87     SD  \n",
              "42       767.91      155.57     TN  \n",
              "43      1004.75      156.83     TX  \n",
              "44       809.38      109.48     UT  \n",
              "45       716.20      109.61     VT  \n",
              "46       768.95      153.72     VA  \n",
              "47       890.03      111.62     WA  \n",
              "48       992.61      152.56     WV  \n",
              "49       670.31      106.62     WI  \n",
              "50       791.14      122.04     WY  "
            ],
            "text/html": [
              "\n",
              "  <div id=\"df-e2b63455-2395-4c30-9ed4-c4843cddaaef\">\n",
              "    <div class=\"colab-df-container\">\n",
              "      <div>\n",
              "<style scoped>\n",
              "    .dataframe tbody tr th:only-of-type {\n",
              "        vertical-align: middle;\n",
              "    }\n",
              "\n",
              "    .dataframe tbody tr th {\n",
              "        vertical-align: top;\n",
              "    }\n",
              "\n",
              "    .dataframe thead th {\n",
              "        text-align: right;\n",
              "    }\n",
              "</style>\n",
              "<table border=\"1\" class=\"dataframe\">\n",
              "  <thead>\n",
              "    <tr style=\"text-align: right;\">\n",
              "      <th></th>\n",
              "      <th>Predicciones</th>\n",
              "      <th>total</th>\n",
              "      <th>speeding</th>\n",
              "      <th>alcohol</th>\n",
              "      <th>not_distracted</th>\n",
              "      <th>no_previous</th>\n",
              "      <th>ins_premium</th>\n",
              "      <th>ins_losses</th>\n",
              "      <th>abbrev</th>\n",
              "    </tr>\n",
              "  </thead>\n",
              "  <tbody>\n",
              "    <tr>\n",
              "      <th>0</th>\n",
              "      <td>17.321112</td>\n",
              "      <td>18.8</td>\n",
              "      <td>7.332</td>\n",
              "      <td>5.640</td>\n",
              "      <td>18.048</td>\n",
              "      <td>15.040</td>\n",
              "      <td>784.55</td>\n",
              "      <td>145.08</td>\n",
              "      <td>AL</td>\n",
              "    </tr>\n",
              "    <tr>\n",
              "      <th>1</th>\n",
              "      <td>15.054867</td>\n",
              "      <td>18.1</td>\n",
              "      <td>7.421</td>\n",
              "      <td>4.525</td>\n",
              "      <td>16.290</td>\n",
              "      <td>17.014</td>\n",
              "      <td>1053.48</td>\n",
              "      <td>133.93</td>\n",
              "      <td>AK</td>\n",
              "    </tr>\n",
              "    <tr>\n",
              "      <th>2</th>\n",
              "      <td>16.443069</td>\n",
              "      <td>18.6</td>\n",
              "      <td>6.510</td>\n",
              "      <td>5.208</td>\n",
              "      <td>15.624</td>\n",
              "      <td>17.856</td>\n",
              "      <td>899.47</td>\n",
              "      <td>110.35</td>\n",
              "      <td>AZ</td>\n",
              "    </tr>\n",
              "    <tr>\n",
              "      <th>3</th>\n",
              "      <td>17.695093</td>\n",
              "      <td>22.4</td>\n",
              "      <td>4.032</td>\n",
              "      <td>5.824</td>\n",
              "      <td>21.056</td>\n",
              "      <td>21.280</td>\n",
              "      <td>827.34</td>\n",
              "      <td>142.39</td>\n",
              "      <td>AR</td>\n",
              "    </tr>\n",
              "    <tr>\n",
              "      <th>4</th>\n",
              "      <td>12.686997</td>\n",
              "      <td>12.0</td>\n",
              "      <td>4.200</td>\n",
              "      <td>3.360</td>\n",
              "      <td>10.920</td>\n",
              "      <td>10.680</td>\n",
              "      <td>878.41</td>\n",
              "      <td>165.63</td>\n",
              "      <td>CA</td>\n",
              "    </tr>\n",
              "    <tr>\n",
              "      <th>5</th>\n",
              "      <td>13.597560</td>\n",
              "      <td>13.6</td>\n",
              "      <td>5.032</td>\n",
              "      <td>3.808</td>\n",
              "      <td>10.744</td>\n",
              "      <td>12.920</td>\n",
              "      <td>835.50</td>\n",
              "      <td>139.91</td>\n",
              "      <td>CO</td>\n",
              "    </tr>\n",
              "    <tr>\n",
              "      <th>6</th>\n",
              "      <td>13.760161</td>\n",
              "      <td>10.8</td>\n",
              "      <td>4.968</td>\n",
              "      <td>3.888</td>\n",
              "      <td>9.396</td>\n",
              "      <td>8.856</td>\n",
              "      <td>1068.73</td>\n",
              "      <td>167.02</td>\n",
              "      <td>CT</td>\n",
              "    </tr>\n",
              "    <tr>\n",
              "      <th>7</th>\n",
              "      <td>15.735757</td>\n",
              "      <td>16.2</td>\n",
              "      <td>6.156</td>\n",
              "      <td>4.860</td>\n",
              "      <td>14.094</td>\n",
              "      <td>16.038</td>\n",
              "      <td>1137.87</td>\n",
              "      <td>151.48</td>\n",
              "      <td>DE</td>\n",
              "    </tr>\n",
              "    <tr>\n",
              "      <th>8</th>\n",
              "      <td>9.095559</td>\n",
              "      <td>5.9</td>\n",
              "      <td>2.006</td>\n",
              "      <td>1.593</td>\n",
              "      <td>5.900</td>\n",
              "      <td>5.900</td>\n",
              "      <td>1273.89</td>\n",
              "      <td>136.05</td>\n",
              "      <td>DC</td>\n",
              "    </tr>\n",
              "    <tr>\n",
              "      <th>9</th>\n",
              "      <td>16.408516</td>\n",
              "      <td>17.9</td>\n",
              "      <td>3.759</td>\n",
              "      <td>5.191</td>\n",
              "      <td>16.468</td>\n",
              "      <td>16.826</td>\n",
              "      <td>1160.13</td>\n",
              "      <td>144.18</td>\n",
              "      <td>FL</td>\n",
              "    </tr>\n",
              "    <tr>\n",
              "      <th>10</th>\n",
              "      <td>13.784551</td>\n",
              "      <td>15.6</td>\n",
              "      <td>2.964</td>\n",
              "      <td>3.900</td>\n",
              "      <td>14.820</td>\n",
              "      <td>14.508</td>\n",
              "      <td>913.15</td>\n",
              "      <td>142.80</td>\n",
              "      <td>GA</td>\n",
              "    </tr>\n",
              "    <tr>\n",
              "      <th>11</th>\n",
              "      <td>20.441009</td>\n",
              "      <td>17.5</td>\n",
              "      <td>9.450</td>\n",
              "      <td>7.175</td>\n",
              "      <td>14.350</td>\n",
              "      <td>15.225</td>\n",
              "      <td>861.18</td>\n",
              "      <td>120.92</td>\n",
              "      <td>HI</td>\n",
              "    </tr>\n",
              "    <tr>\n",
              "      <th>12</th>\n",
              "      <td>14.876007</td>\n",
              "      <td>15.3</td>\n",
              "      <td>5.508</td>\n",
              "      <td>4.437</td>\n",
              "      <td>13.005</td>\n",
              "      <td>14.994</td>\n",
              "      <td>641.96</td>\n",
              "      <td>82.75</td>\n",
              "      <td>ID</td>\n",
              "    </tr>\n",
              "    <tr>\n",
              "      <th>13</th>\n",
              "      <td>14.703244</td>\n",
              "      <td>12.8</td>\n",
              "      <td>4.608</td>\n",
              "      <td>4.352</td>\n",
              "      <td>12.032</td>\n",
              "      <td>12.288</td>\n",
              "      <td>803.11</td>\n",
              "      <td>139.15</td>\n",
              "      <td>IL</td>\n",
              "    </tr>\n",
              "    <tr>\n",
              "      <th>14</th>\n",
              "      <td>14.404465</td>\n",
              "      <td>14.5</td>\n",
              "      <td>3.625</td>\n",
              "      <td>4.205</td>\n",
              "      <td>13.775</td>\n",
              "      <td>13.775</td>\n",
              "      <td>710.46</td>\n",
              "      <td>108.92</td>\n",
              "      <td>IN</td>\n",
              "    </tr>\n",
              "    <tr>\n",
              "      <th>15</th>\n",
              "      <td>13.835363</td>\n",
              "      <td>15.7</td>\n",
              "      <td>2.669</td>\n",
              "      <td>3.925</td>\n",
              "      <td>15.229</td>\n",
              "      <td>13.659</td>\n",
              "      <td>649.06</td>\n",
              "      <td>114.47</td>\n",
              "      <td>IA</td>\n",
              "    </tr>\n",
              "    <tr>\n",
              "      <th>16</th>\n",
              "      <td>14.540643</td>\n",
              "      <td>17.8</td>\n",
              "      <td>4.806</td>\n",
              "      <td>4.272</td>\n",
              "      <td>13.706</td>\n",
              "      <td>15.130</td>\n",
              "      <td>780.45</td>\n",
              "      <td>133.80</td>\n",
              "      <td>KS</td>\n",
              "    </tr>\n",
              "    <tr>\n",
              "      <th>17</th>\n",
              "      <td>15.861772</td>\n",
              "      <td>21.4</td>\n",
              "      <td>4.066</td>\n",
              "      <td>4.922</td>\n",
              "      <td>16.692</td>\n",
              "      <td>16.264</td>\n",
              "      <td>872.51</td>\n",
              "      <td>137.13</td>\n",
              "      <td>KY</td>\n",
              "    </tr>\n",
              "    <tr>\n",
              "      <th>18</th>\n",
              "      <td>19.607681</td>\n",
              "      <td>20.5</td>\n",
              "      <td>7.175</td>\n",
              "      <td>6.765</td>\n",
              "      <td>14.965</td>\n",
              "      <td>20.090</td>\n",
              "      <td>1281.55</td>\n",
              "      <td>194.78</td>\n",
              "      <td>LA</td>\n",
              "    </tr>\n",
              "    <tr>\n",
              "      <th>19</th>\n",
              "      <td>15.065030</td>\n",
              "      <td>15.1</td>\n",
              "      <td>5.738</td>\n",
              "      <td>4.530</td>\n",
              "      <td>13.137</td>\n",
              "      <td>12.684</td>\n",
              "      <td>661.88</td>\n",
              "      <td>96.57</td>\n",
              "      <td>ME</td>\n",
              "    </tr>\n",
              "    <tr>\n",
              "      <th>20</th>\n",
              "      <td>13.987801</td>\n",
              "      <td>12.5</td>\n",
              "      <td>4.250</td>\n",
              "      <td>4.000</td>\n",
              "      <td>8.875</td>\n",
              "      <td>12.375</td>\n",
              "      <td>1048.78</td>\n",
              "      <td>192.70</td>\n",
              "      <td>MD</td>\n",
              "    </tr>\n",
              "    <tr>\n",
              "      <th>21</th>\n",
              "      <td>11.691069</td>\n",
              "      <td>8.2</td>\n",
              "      <td>1.886</td>\n",
              "      <td>2.870</td>\n",
              "      <td>7.134</td>\n",
              "      <td>6.560</td>\n",
              "      <td>1011.14</td>\n",
              "      <td>135.63</td>\n",
              "      <td>MA</td>\n",
              "    </tr>\n",
              "    <tr>\n",
              "      <th>22</th>\n",
              "      <td>13.882111</td>\n",
              "      <td>14.1</td>\n",
              "      <td>3.384</td>\n",
              "      <td>3.948</td>\n",
              "      <td>13.395</td>\n",
              "      <td>10.857</td>\n",
              "      <td>1110.61</td>\n",
              "      <td>152.26</td>\n",
              "      <td>MI</td>\n",
              "    </tr>\n",
              "    <tr>\n",
              "      <th>23</th>\n",
              "      <td>11.516274</td>\n",
              "      <td>9.6</td>\n",
              "      <td>2.208</td>\n",
              "      <td>2.784</td>\n",
              "      <td>8.448</td>\n",
              "      <td>8.448</td>\n",
              "      <td>777.18</td>\n",
              "      <td>133.35</td>\n",
              "      <td>MN</td>\n",
              "    </tr>\n",
              "    <tr>\n",
              "      <th>24</th>\n",
              "      <td>16.947131</td>\n",
              "      <td>17.6</td>\n",
              "      <td>2.640</td>\n",
              "      <td>5.456</td>\n",
              "      <td>1.760</td>\n",
              "      <td>17.600</td>\n",
              "      <td>896.07</td>\n",
              "      <td>155.77</td>\n",
              "      <td>MS</td>\n",
              "    </tr>\n",
              "    <tr>\n",
              "      <th>25</th>\n",
              "      <td>16.983716</td>\n",
              "      <td>16.1</td>\n",
              "      <td>6.923</td>\n",
              "      <td>5.474</td>\n",
              "      <td>14.812</td>\n",
              "      <td>13.524</td>\n",
              "      <td>790.32</td>\n",
              "      <td>144.45</td>\n",
              "      <td>MO</td>\n",
              "    </tr>\n",
              "    <tr>\n",
              "      <th>26</th>\n",
              "      <td>24.995856</td>\n",
              "      <td>21.4</td>\n",
              "      <td>8.346</td>\n",
              "      <td>9.416</td>\n",
              "      <td>17.976</td>\n",
              "      <td>18.190</td>\n",
              "      <td>816.21</td>\n",
              "      <td>85.15</td>\n",
              "      <td>MT</td>\n",
              "    </tr>\n",
              "    <tr>\n",
              "      <th>27</th>\n",
              "      <td>16.457297</td>\n",
              "      <td>14.9</td>\n",
              "      <td>1.937</td>\n",
              "      <td>5.215</td>\n",
              "      <td>13.857</td>\n",
              "      <td>13.410</td>\n",
              "      <td>732.28</td>\n",
              "      <td>114.82</td>\n",
              "      <td>NE</td>\n",
              "    </tr>\n",
              "    <tr>\n",
              "      <th>28</th>\n",
              "      <td>15.418686</td>\n",
              "      <td>14.7</td>\n",
              "      <td>5.439</td>\n",
              "      <td>4.704</td>\n",
              "      <td>13.965</td>\n",
              "      <td>14.553</td>\n",
              "      <td>1029.87</td>\n",
              "      <td>138.71</td>\n",
              "      <td>NV</td>\n",
              "    </tr>\n",
              "    <tr>\n",
              "      <th>29</th>\n",
              "      <td>12.930898</td>\n",
              "      <td>11.6</td>\n",
              "      <td>4.060</td>\n",
              "      <td>3.480</td>\n",
              "      <td>10.092</td>\n",
              "      <td>9.628</td>\n",
              "      <td>746.54</td>\n",
              "      <td>120.21</td>\n",
              "      <td>NH</td>\n",
              "    </tr>\n",
              "    <tr>\n",
              "      <th>30</th>\n",
              "      <td>12.231716</td>\n",
              "      <td>11.2</td>\n",
              "      <td>1.792</td>\n",
              "      <td>3.136</td>\n",
              "      <td>9.632</td>\n",
              "      <td>8.736</td>\n",
              "      <td>1301.52</td>\n",
              "      <td>159.85</td>\n",
              "      <td>NJ</td>\n",
              "    </tr>\n",
              "    <tr>\n",
              "      <th>31</th>\n",
              "      <td>15.955267</td>\n",
              "      <td>18.4</td>\n",
              "      <td>3.496</td>\n",
              "      <td>4.968</td>\n",
              "      <td>12.328</td>\n",
              "      <td>18.032</td>\n",
              "      <td>869.85</td>\n",
              "      <td>120.75</td>\n",
              "      <td>NM</td>\n",
              "    </tr>\n",
              "    <tr>\n",
              "      <th>32</th>\n",
              "      <td>13.107726</td>\n",
              "      <td>12.3</td>\n",
              "      <td>3.936</td>\n",
              "      <td>3.567</td>\n",
              "      <td>10.824</td>\n",
              "      <td>9.840</td>\n",
              "      <td>1234.31</td>\n",
              "      <td>150.01</td>\n",
              "      <td>NY</td>\n",
              "    </tr>\n",
              "    <tr>\n",
              "      <th>33</th>\n",
              "      <td>16.443069</td>\n",
              "      <td>16.8</td>\n",
              "      <td>6.552</td>\n",
              "      <td>5.208</td>\n",
              "      <td>15.792</td>\n",
              "      <td>13.608</td>\n",
              "      <td>708.24</td>\n",
              "      <td>127.82</td>\n",
              "      <td>NC</td>\n",
              "    </tr>\n",
              "    <tr>\n",
              "      <th>34</th>\n",
              "      <td>26.260074</td>\n",
              "      <td>23.9</td>\n",
              "      <td>5.497</td>\n",
              "      <td>10.038</td>\n",
              "      <td>23.661</td>\n",
              "      <td>20.554</td>\n",
              "      <td>688.75</td>\n",
              "      <td>109.72</td>\n",
              "      <td>ND</td>\n",
              "    </tr>\n",
              "    <tr>\n",
              "      <th>35</th>\n",
              "      <td>15.601611</td>\n",
              "      <td>14.1</td>\n",
              "      <td>3.948</td>\n",
              "      <td>4.794</td>\n",
              "      <td>13.959</td>\n",
              "      <td>11.562</td>\n",
              "      <td>697.73</td>\n",
              "      <td>133.52</td>\n",
              "      <td>OH</td>\n",
              "    </tr>\n",
              "    <tr>\n",
              "      <th>36</th>\n",
              "      <td>17.587370</td>\n",
              "      <td>19.9</td>\n",
              "      <td>6.368</td>\n",
              "      <td>5.771</td>\n",
              "      <td>18.308</td>\n",
              "      <td>18.706</td>\n",
              "      <td>881.51</td>\n",
              "      <td>178.86</td>\n",
              "      <td>OK</td>\n",
              "    </tr>\n",
              "    <tr>\n",
              "      <th>37</th>\n",
              "      <td>12.621957</td>\n",
              "      <td>12.8</td>\n",
              "      <td>4.224</td>\n",
              "      <td>3.328</td>\n",
              "      <td>8.576</td>\n",
              "      <td>11.520</td>\n",
              "      <td>804.71</td>\n",
              "      <td>104.61</td>\n",
              "      <td>OR</td>\n",
              "    </tr>\n",
              "    <tr>\n",
              "      <th>38</th>\n",
              "      <td>17.325177</td>\n",
              "      <td>18.2</td>\n",
              "      <td>9.100</td>\n",
              "      <td>5.642</td>\n",
              "      <td>17.472</td>\n",
              "      <td>16.016</td>\n",
              "      <td>905.99</td>\n",
              "      <td>153.86</td>\n",
              "      <td>PA</td>\n",
              "    </tr>\n",
              "    <tr>\n",
              "      <th>39</th>\n",
              "      <td>14.430888</td>\n",
              "      <td>11.1</td>\n",
              "      <td>3.774</td>\n",
              "      <td>4.218</td>\n",
              "      <td>10.212</td>\n",
              "      <td>8.769</td>\n",
              "      <td>1148.99</td>\n",
              "      <td>148.58</td>\n",
              "      <td>RI</td>\n",
              "    </tr>\n",
              "    <tr>\n",
              "      <th>40</th>\n",
              "      <td>25.774305</td>\n",
              "      <td>23.9</td>\n",
              "      <td>9.082</td>\n",
              "      <td>9.799</td>\n",
              "      <td>22.944</td>\n",
              "      <td>19.359</td>\n",
              "      <td>858.97</td>\n",
              "      <td>116.29</td>\n",
              "      <td>SC</td>\n",
              "    </tr>\n",
              "    <tr>\n",
              "      <th>41</th>\n",
              "      <td>18.869882</td>\n",
              "      <td>19.4</td>\n",
              "      <td>6.014</td>\n",
              "      <td>6.402</td>\n",
              "      <td>19.012</td>\n",
              "      <td>16.684</td>\n",
              "      <td>669.31</td>\n",
              "      <td>96.87</td>\n",
              "      <td>SD</td>\n",
              "    </tr>\n",
              "    <tr>\n",
              "      <th>42</th>\n",
              "      <td>17.351599</td>\n",
              "      <td>19.5</td>\n",
              "      <td>4.095</td>\n",
              "      <td>5.655</td>\n",
              "      <td>15.990</td>\n",
              "      <td>15.795</td>\n",
              "      <td>767.91</td>\n",
              "      <td>155.57</td>\n",
              "      <td>TN</td>\n",
              "    </tr>\n",
              "    <tr>\n",
              "      <th>43</th>\n",
              "      <td>20.841413</td>\n",
              "      <td>19.4</td>\n",
              "      <td>7.760</td>\n",
              "      <td>7.372</td>\n",
              "      <td>17.654</td>\n",
              "      <td>16.878</td>\n",
              "      <td>1004.75</td>\n",
              "      <td>156.83</td>\n",
              "      <td>TX</td>\n",
              "    </tr>\n",
              "    <tr>\n",
              "      <th>44</th>\n",
              "      <td>9.532548</td>\n",
              "      <td>11.3</td>\n",
              "      <td>4.859</td>\n",
              "      <td>1.808</td>\n",
              "      <td>9.944</td>\n",
              "      <td>10.848</td>\n",
              "      <td>809.38</td>\n",
              "      <td>109.48</td>\n",
              "      <td>UT</td>\n",
              "    </tr>\n",
              "    <tr>\n",
              "      <th>45</th>\n",
              "      <td>14.150402</td>\n",
              "      <td>13.6</td>\n",
              "      <td>4.080</td>\n",
              "      <td>4.080</td>\n",
              "      <td>13.056</td>\n",
              "      <td>12.920</td>\n",
              "      <td>716.20</td>\n",
              "      <td>109.61</td>\n",
              "      <td>VT</td>\n",
              "    </tr>\n",
              "    <tr>\n",
              "      <th>46</th>\n",
              "      <td>12.827240</td>\n",
              "      <td>12.7</td>\n",
              "      <td>2.413</td>\n",
              "      <td>3.429</td>\n",
              "      <td>11.049</td>\n",
              "      <td>11.176</td>\n",
              "      <td>768.95</td>\n",
              "      <td>153.72</td>\n",
              "      <td>VA</td>\n",
              "    </tr>\n",
              "    <tr>\n",
              "      <th>47</th>\n",
              "      <td>12.967483</td>\n",
              "      <td>10.6</td>\n",
              "      <td>4.452</td>\n",
              "      <td>3.498</td>\n",
              "      <td>8.692</td>\n",
              "      <td>9.116</td>\n",
              "      <td>890.03</td>\n",
              "      <td>111.62</td>\n",
              "      <td>WA</td>\n",
              "    </tr>\n",
              "    <tr>\n",
              "      <th>48</th>\n",
              "      <td>19.402398</td>\n",
              "      <td>23.8</td>\n",
              "      <td>8.092</td>\n",
              "      <td>6.664</td>\n",
              "      <td>23.086</td>\n",
              "      <td>20.706</td>\n",
              "      <td>992.61</td>\n",
              "      <td>152.56</td>\n",
              "      <td>WV</td>\n",
              "    </tr>\n",
              "    <tr>\n",
              "      <th>49</th>\n",
              "      <td>15.113810</td>\n",
              "      <td>13.8</td>\n",
              "      <td>4.968</td>\n",
              "      <td>4.554</td>\n",
              "      <td>5.382</td>\n",
              "      <td>11.592</td>\n",
              "      <td>670.31</td>\n",
              "      <td>106.62</td>\n",
              "      <td>WI</td>\n",
              "    </tr>\n",
              "    <tr>\n",
              "      <th>50</th>\n",
              "      <td>17.174771</td>\n",
              "      <td>17.4</td>\n",
              "      <td>7.308</td>\n",
              "      <td>5.568</td>\n",
              "      <td>14.094</td>\n",
              "      <td>15.660</td>\n",
              "      <td>791.14</td>\n",
              "      <td>122.04</td>\n",
              "      <td>WY</td>\n",
              "    </tr>\n",
              "  </tbody>\n",
              "</table>\n",
              "</div>\n",
              "      <button class=\"colab-df-convert\" onclick=\"convertToInteractive('df-e2b63455-2395-4c30-9ed4-c4843cddaaef')\"\n",
              "              title=\"Convert this dataframe to an interactive table.\"\n",
              "              style=\"display:none;\">\n",
              "        \n",
              "  <svg xmlns=\"http://www.w3.org/2000/svg\" height=\"24px\"viewBox=\"0 0 24 24\"\n",
              "       width=\"24px\">\n",
              "    <path d=\"M0 0h24v24H0V0z\" fill=\"none\"/>\n",
              "    <path d=\"M18.56 5.44l.94 2.06.94-2.06 2.06-.94-2.06-.94-.94-2.06-.94 2.06-2.06.94zm-11 1L8.5 8.5l.94-2.06 2.06-.94-2.06-.94L8.5 2.5l-.94 2.06-2.06.94zm10 10l.94 2.06.94-2.06 2.06-.94-2.06-.94-.94-2.06-.94 2.06-2.06.94z\"/><path d=\"M17.41 7.96l-1.37-1.37c-.4-.4-.92-.59-1.43-.59-.52 0-1.04.2-1.43.59L10.3 9.45l-7.72 7.72c-.78.78-.78 2.05 0 2.83L4 21.41c.39.39.9.59 1.41.59.51 0 1.02-.2 1.41-.59l7.78-7.78 2.81-2.81c.8-.78.8-2.07 0-2.86zM5.41 20L4 18.59l7.72-7.72 1.47 1.35L5.41 20z\"/>\n",
              "  </svg>\n",
              "      </button>\n",
              "      \n",
              "  <style>\n",
              "    .colab-df-container {\n",
              "      display:flex;\n",
              "      flex-wrap:wrap;\n",
              "      gap: 12px;\n",
              "    }\n",
              "\n",
              "    .colab-df-convert {\n",
              "      background-color: #E8F0FE;\n",
              "      border: none;\n",
              "      border-radius: 50%;\n",
              "      cursor: pointer;\n",
              "      display: none;\n",
              "      fill: #1967D2;\n",
              "      height: 32px;\n",
              "      padding: 0 0 0 0;\n",
              "      width: 32px;\n",
              "    }\n",
              "\n",
              "    .colab-df-convert:hover {\n",
              "      background-color: #E2EBFA;\n",
              "      box-shadow: 0px 1px 2px rgba(60, 64, 67, 0.3), 0px 1px 3px 1px rgba(60, 64, 67, 0.15);\n",
              "      fill: #174EA6;\n",
              "    }\n",
              "\n",
              "    [theme=dark] .colab-df-convert {\n",
              "      background-color: #3B4455;\n",
              "      fill: #D2E3FC;\n",
              "    }\n",
              "\n",
              "    [theme=dark] .colab-df-convert:hover {\n",
              "      background-color: #434B5C;\n",
              "      box-shadow: 0px 1px 3px 1px rgba(0, 0, 0, 0.15);\n",
              "      filter: drop-shadow(0px 1px 2px rgba(0, 0, 0, 0.3));\n",
              "      fill: #FFFFFF;\n",
              "    }\n",
              "  </style>\n",
              "\n",
              "      <script>\n",
              "        const buttonEl =\n",
              "          document.querySelector('#df-e2b63455-2395-4c30-9ed4-c4843cddaaef button.colab-df-convert');\n",
              "        buttonEl.style.display =\n",
              "          google.colab.kernel.accessAllowed ? 'block' : 'none';\n",
              "\n",
              "        async function convertToInteractive(key) {\n",
              "          const element = document.querySelector('#df-e2b63455-2395-4c30-9ed4-c4843cddaaef');\n",
              "          const dataTable =\n",
              "            await google.colab.kernel.invokeFunction('convertToInteractive',\n",
              "                                                     [key], {});\n",
              "          if (!dataTable) return;\n",
              "\n",
              "          const docLinkHtml = 'Like what you see? Visit the ' +\n",
              "            '<a target=\"_blank\" href=https://colab.research.google.com/notebooks/data_table.ipynb>data table notebook</a>'\n",
              "            + ' to learn more about interactive tables.';\n",
              "          element.innerHTML = '';\n",
              "          dataTable['output_type'] = 'display_data';\n",
              "          await google.colab.output.renderOutput(dataTable, element);\n",
              "          const docLink = document.createElement('div');\n",
              "          docLink.innerHTML = docLinkHtml;\n",
              "          element.appendChild(docLink);\n",
              "        }\n",
              "      </script>\n",
              "    </div>\n",
              "  </div>\n",
              "  "
            ]
          },
          "metadata": {},
          "execution_count": 37
        }
      ]
    },
    {
      "cell_type": "code",
      "source": [
        "#Visualización de la gráfica comparativa entre total real y predich\n",
        "\n",
        "tr=sns.scatterplot(x='alcohol',y='total', color=\"blue\",data=df)\n",
        "tp=sns.scatterplot(x='alcohol',y='Predicciones',color='red',data=df)"
      ],
      "metadata": {
        "colab": {
          "base_uri": "https://localhost:8080/",
          "height": 279
        },
        "id": "0VCivALKxxL8",
        "outputId": "b22fb2e9-127f-40e8-bbae-98cddfd76657"
      },
      "execution_count": 38,
      "outputs": [
        {
          "output_type": "display_data",
          "data": {
            "text/plain": [
              "<Figure size 432x288 with 1 Axes>"
            ],
            "image/png": "[encoded data removed]"
          },
          "metadata": {
            "needs_background": "light"
          }
        }
      ]
    },
    {
      "cell_type": "code",
      "source": [
        "coef_deter=model.score(X=Vars_Indep,y=Var_Dep)\n",
        "coef_deter"
      ],
      "metadata": {
        "colab": {
          "base_uri": "https://localhost:8080/"
        },
        "id": "WJioHFvR2xgZ",
        "outputId": "7f7b2d4a-0b1b-4295-b676-afb9ba37a2f4"
      },
      "execution_count": 40,
      "outputs": [
        {
          "output_type": "execute_result",
          "data": {
            "text/plain": [
              "0.7269492966665405"
            ]
          },
          "metadata": {},
          "execution_count": 40
        }
      ]
    },
    {
      "cell_type": "code",
      "source": [
        "coef_correl=np.sqrt(coef_deter)\n",
        "coef_correl"
      ],
      "metadata": {
        "colab": {
          "base_uri": "https://localhost:8080/"
        },
        "id": "7F2YKgK73BJy",
        "outputId": "1983d0d2-6c23-4fe0-bdcb-52a6589f1c0a"
      },
      "execution_count": 42,
      "outputs": [
        {
          "output_type": "execute_result",
          "data": {
            "text/plain": [
              "0.8526132163334911"
            ]
          },
          "metadata": {},
          "execution_count": 42
        }
      ]
    },
    {
      "cell_type": "code",
      "source": [
        "sns.pairplot(df)"
      ],
      "metadata": {
        "colab": {
          "base_uri": "https://localhost:8080/",
          "height": 1000
        },
        "id": "raXReW9g317V",
        "outputId": "e27a6ee6-f626-418a-fb5e-1cf355a1785e"
      },
      "execution_count": 43,
      "outputs": [
        {
          "output_type": "execute_result",
          "data": {
            "text/plain": [
              "<seaborn.axisgrid.PairGrid at 0x7f2dd96caf10>"
            ]
          },
          "metadata": {},
          "execution_count": 43
        },
        {
          "output_type": "display_data",
          "data": {
            "text/plain": [
              "<Figure size 1440x1440 with 72 Axes>"
            ],
            "image/png": "[encoded data removed]"
          },
          "metadata": {
            "needs_background": "light"
          }
        }
      ]
    },
    {
      "cell_type": "code",
      "source": [
        "Corr_factores=df.corr()\n",
        "Corr_factores"
      ],
      "metadata": {
        "colab": {
          "base_uri": "https://localhost:8080/",
          "height": 300
        },
        "id": "i06NVIsM4Zio",
        "outputId": "0860de67-4932-403f-aa03-ce8b5b225803"
      },
      "execution_count": 44,
      "outputs": [
        {
          "output_type": "execute_result",
          "data": {
            "text/plain": [
              "                Predicciones     total  speeding   alcohol  not_distracted  \\\n",
              "Predicciones        1.000000  0.852613  0.669719  1.000000        0.732816   \n",
              "total               0.852613  1.000000  0.611548  0.852613        0.827560   \n",
              "speeding            0.669719  0.611548  1.000000  0.669719        0.588010   \n",
              "alcohol             1.000000  0.852613  0.669719  1.000000        0.732816   \n",
              "not_distracted      0.732816  0.827560  0.588010  0.732816        1.000000   \n",
              "no_previous         0.783520  0.956179  0.571976  0.783520        0.747307   \n",
              "ins_premium        -0.170612 -0.199702 -0.077675 -0.170612       -0.174856   \n",
              "ins_losses         -0.112547 -0.036011 -0.065928 -0.112547       -0.075970   \n",
              "\n",
              "                no_previous  ins_premium  ins_losses  \n",
              "Predicciones       0.783520    -0.170612   -0.112547  \n",
              "total              0.956179    -0.199702   -0.036011  \n",
              "speeding           0.571976    -0.077675   -0.065928  \n",
              "alcohol            0.783520    -0.170612   -0.112547  \n",
              "not_distracted     0.747307    -0.174856   -0.075970  \n",
              "no_previous        1.000000    -0.156895   -0.006359  \n",
              "ins_premium       -0.156895     1.000000    0.623116  \n",
              "ins_losses        -0.006359     0.623116    1.000000  "
            ],
            "text/html": [
              "\n",
              "  <div id=\"df-c39555c5-8426-4a49-ac4f-07134c7cc8a4\">\n",
              "    <div class=\"colab-df-container\">\n",
              "      <div>\n",
              "<style scoped>\n",
              "    .dataframe tbody tr th:only-of-type {\n",
              "        vertical-align: middle;\n",
              "    }\n",
              "\n",
              "    .dataframe tbody tr th {\n",
              "        vertical-align: top;\n",
              "    }\n",
              "\n",
              "    .dataframe thead th {\n",
              "        text-align: right;\n",
              "    }\n",
              "</style>\n",
              "<table border=\"1\" class=\"dataframe\">\n",
              "  <thead>\n",
              "    <tr style=\"text-align: right;\">\n",
              "      <th></th>\n",
              "      <th>Predicciones</th>\n",
              "      <th>total</th>\n",
              "      <th>speeding</th>\n",
              "      <th>alcohol</th>\n",
              "      <th>not_distracted</th>\n",
              "      <th>no_previous</th>\n",
              "      <th>ins_premium</th>\n",
              "      <th>ins_losses</th>\n",
              "    </tr>\n",
              "  </thead>\n",
              "  <tbody>\n",
              "    <tr>\n",
              "      <th>Predicciones</th>\n",
              "      <td>1.000000</td>\n",
              "      <td>0.852613</td>\n",
              "      <td>0.669719</td>\n",
              "      <td>1.000000</td>\n",
              "      <td>0.732816</td>\n",
              "      <td>0.783520</td>\n",
              "      <td>-0.170612</td>\n",
              "      <td>-0.112547</td>\n",
              "    </tr>\n",
              "    <tr>\n",
              "      <th>total</th>\n",
              "      <td>0.852613</td>\n",
              "      <td>1.000000</td>\n",
              "      <td>0.611548</td>\n",
              "      <td>0.852613</td>\n",
              "      <td>0.827560</td>\n",
              "      <td>0.956179</td>\n",
              "      <td>-0.199702</td>\n",
              "      <td>-0.036011</td>\n",
              "    </tr>\n",
              "    <tr>\n",
              "      <th>speeding</th>\n",
              "      <td>0.669719</td>\n",
              "      <td>0.611548</td>\n",
              "      <td>1.000000</td>\n",
              "      <td>0.669719</td>\n",
              "      <td>0.588010</td>\n",
              "      <td>0.571976</td>\n",
              "      <td>-0.077675</td>\n",
              "      <td>-0.065928</td>\n",
              "    </tr>\n",
              "    <tr>\n",
              "      <th>alcohol</th>\n",
              "      <td>1.000000</td>\n",
              "      <td>0.852613</td>\n",
              "      <td>0.669719</td>\n",
              "      <td>1.000000</td>\n",
              "      <td>0.732816</td>\n",
              "      <td>0.783520</td>\n",
              "      <td>-0.170612</td>\n",
              "      <td>-0.112547</td>\n",
              "    </tr>\n",
              "    <tr>\n",
              "      <th>not_distracted</th>\n",
              "      <td>0.732816</td>\n",
              "      <td>0.827560</td>\n",
              "      <td>0.588010</td>\n",
              "      <td>0.732816</td>\n",
              "      <td>1.000000</td>\n",
              "      <td>0.747307</td>\n",
              "      <td>-0.174856</td>\n",
              "      <td>-0.075970</td>\n",
              "    </tr>\n",
              "    <tr>\n",
              "      <th>no_previous</th>\n",
              "      <td>0.783520</td>\n",
              "      <td>0.956179</td>\n",
              "      <td>0.571976</td>\n",
              "      <td>0.783520</td>\n",
              "      <td>0.747307</td>\n",
              "      <td>1.000000</td>\n",
              "      <td>-0.156895</td>\n",
              "      <td>-0.006359</td>\n",
              "    </tr>\n",
              "    <tr>\n",
              "      <th>ins_premium</th>\n",
              "      <td>-0.170612</td>\n",
              "      <td>-0.199702</td>\n",
              "      <td>-0.077675</td>\n",
              "      <td>-0.170612</td>\n",
              "      <td>-0.174856</td>\n",
              "      <td>-0.156895</td>\n",
              "      <td>1.000000</td>\n",
              "      <td>0.623116</td>\n",
              "    </tr>\n",
              "    <tr>\n",
              "      <th>ins_losses</th>\n",
              "      <td>-0.112547</td>\n",
              "      <td>-0.036011</td>\n",
              "      <td>-0.065928</td>\n",
              "      <td>-0.112547</td>\n",
              "      <td>-0.075970</td>\n",
              "      <td>-0.006359</td>\n",
              "      <td>0.623116</td>\n",
              "      <td>1.000000</td>\n",
              "    </tr>\n",
              "  </tbody>\n",
              "</table>\n",
              "</div>\n",
              "      <button class=\"colab-df-convert\" onclick=\"convertToInteractive('df-c39555c5-8426-4a49-ac4f-07134c7cc8a4')\"\n",
              "              title=\"Convert this dataframe to an interactive table.\"\n",
              "              style=\"display:none;\">\n",
              "        \n",
              "  <svg xmlns=\"http://www.w3.org/2000/svg\" height=\"24px\"viewBox=\"0 0 24 24\"\n",
              "       width=\"24px\">\n",
              "    <path d=\"M0 0h24v24H0V0z\" fill=\"none\"/>\n",
              "    <path d=\"M18.56 5.44l.94 2.06.94-2.06 2.06-.94-2.06-.94-.94-2.06-.94 2.06-2.06.94zm-11 1L8.5 8.5l.94-2.06 2.06-.94-2.06-.94L8.5 2.5l-.94 2.06-2.06.94zm10 10l.94 2.06.94-2.06 2.06-.94-2.06-.94-.94-2.06-.94 2.06-2.06.94z\"/><path d=\"M17.41 7.96l-1.37-1.37c-.4-.4-.92-.59-1.43-.59-.52 0-1.04.2-1.43.59L10.3 9.45l-7.72 7.72c-.78.78-.78 2.05 0 2.83L4 21.41c.39.39.9.59 1.41.59.51 0 1.02-.2 1.41-.59l7.78-7.78 2.81-2.81c.8-.78.8-2.07 0-2.86zM5.41 20L4 18.59l7.72-7.72 1.47 1.35L5.41 20z\"/>\n",
              "  </svg>\n",
              "      </button>\n",
              "      \n",
              "  <style>\n",
              "    .colab-df-container {\n",
              "      display:flex;\n",
              "      flex-wrap:wrap;\n",
              "      gap: 12px;\n",
              "    }\n",
              "\n",
              "    .colab-df-convert {\n",
              "      background-color: #E8F0FE;\n",
              "      border: none;\n",
              "      border-radius: 50%;\n",
              "      cursor: pointer;\n",
              "      display: none;\n",
              "      fill: #1967D2;\n",
              "      height: 32px;\n",
              "      padding: 0 0 0 0;\n",
              "      width: 32px;\n",
              "    }\n",
              "\n",
              "    .colab-df-convert:hover {\n",
              "      background-color: #E2EBFA;\n",
              "      box-shadow: 0px 1px 2px rgba(60, 64, 67, 0.3), 0px 1px 3px 1px rgba(60, 64, 67, 0.15);\n",
              "      fill: #174EA6;\n",
              "    }\n",
              "\n",
              "    [theme=dark] .colab-df-convert {\n",
              "      background-color: #3B4455;\n",
              "      fill: #D2E3FC;\n",
              "    }\n",
              "\n",
              "    [theme=dark] .colab-df-convert:hover {\n",
              "      background-color: #434B5C;\n",
              "      box-shadow: 0px 1px 3px 1px rgba(0, 0, 0, 0.15);\n",
              "      filter: drop-shadow(0px 1px 2px rgba(0, 0, 0, 0.3));\n",
              "      fill: #FFFFFF;\n",
              "    }\n",
              "  </style>\n",
              "\n",
              "      <script>\n",
              "        const buttonEl =\n",
              "          document.querySelector('#df-c39555c5-8426-4a49-ac4f-07134c7cc8a4 button.colab-df-convert');\n",
              "        buttonEl.style.display =\n",
              "          google.colab.kernel.accessAllowed ? 'block' : 'none';\n",
              "\n",
              "        async function convertToInteractive(key) {\n",
              "          const element = document.querySelector('#df-c39555c5-8426-4a49-ac4f-07134c7cc8a4');\n",
              "          const dataTable =\n",
              "            await google.colab.kernel.invokeFunction('convertToInteractive',\n",
              "                                                     [key], {});\n",
              "          if (!dataTable) return;\n",
              "\n",
              "          const docLinkHtml = 'Like what you see? Visit the ' +\n",
              "            '<a target=\"_blank\" href=https://colab.research.google.com/notebooks/data_table.ipynb>data table notebook</a>'\n",
              "            + ' to learn more about interactive tables.';\n",
              "          element.innerHTML = '';\n",
              "          dataTable['output_type'] = 'display_data';\n",
              "          await google.colab.output.renderOutput(dataTable, element);\n",
              "          const docLink = document.createElement('div');\n",
              "          docLink.innerHTML = docLinkHtml;\n",
              "          element.appendChild(docLink);\n",
              "        }\n",
              "      </script>\n",
              "    </div>\n",
              "  </div>\n",
              "  "
            ]
          },
          "metadata": {},
          "execution_count": 44
        }
      ]
    },
    {
      "cell_type": "code",
      "source": [
        "Corr_factores1=abs(Corr_factores)\n",
        "Corr_factores1"
      ],
      "metadata": {
        "colab": {
          "base_uri": "https://localhost:8080/",
          "height": 300
        },
        "id": "jlcPKq5n5CSj",
        "outputId": "bcc24435-121e-4c65-bb2c-86c7264a5777"
      },
      "execution_count": 46,
      "outputs": [
        {
          "output_type": "execute_result",
          "data": {
            "text/plain": [
              "                Predicciones     total  speeding   alcohol  not_distracted  \\\n",
              "Predicciones        1.000000  0.852613  0.669719  1.000000        0.732816   \n",
              "total               0.852613  1.000000  0.611548  0.852613        0.827560   \n",
              "speeding            0.669719  0.611548  1.000000  0.669719        0.588010   \n",
              "alcohol             1.000000  0.852613  0.669719  1.000000        0.732816   \n",
              "not_distracted      0.732816  0.827560  0.588010  0.732816        1.000000   \n",
              "no_previous         0.783520  0.956179  0.571976  0.783520        0.747307   \n",
              "ins_premium         0.170612  0.199702  0.077675  0.170612        0.174856   \n",
              "ins_losses          0.112547  0.036011  0.065928  0.112547        0.075970   \n",
              "\n",
              "                no_previous  ins_premium  ins_losses  \n",
              "Predicciones       0.783520     0.170612    0.112547  \n",
              "total              0.956179     0.199702    0.036011  \n",
              "speeding           0.571976     0.077675    0.065928  \n",
              "alcohol            0.783520     0.170612    0.112547  \n",
              "not_distracted     0.747307     0.174856    0.075970  \n",
              "no_previous        1.000000     0.156895    0.006359  \n",
              "ins_premium        0.156895     1.000000    0.623116  \n",
              "ins_losses         0.006359     0.623116    1.000000  "
            ],
            "text/html": [
              "\n",
              "  <div id=\"df-19721834-bdb9-40d3-8761-30e986176acb\">\n",
              "    <div class=\"colab-df-container\">\n",
              "      <div>\n",
              "<style scoped>\n",
              "    .dataframe tbody tr th:only-of-type {\n",
              "        vertical-align: middle;\n",
              "    }\n",
              "\n",
              "    .dataframe tbody tr th {\n",
              "        vertical-align: top;\n",
              "    }\n",
              "\n",
              "    .dataframe thead th {\n",
              "        text-align: right;\n",
              "    }\n",
              "</style>\n",
              "<table border=\"1\" class=\"dataframe\">\n",
              "  <thead>\n",
              "    <tr style=\"text-align: right;\">\n",
              "      <th></th>\n",
              "      <th>Predicciones</th>\n",
              "      <th>total</th>\n",
              "      <th>speeding</th>\n",
              "      <th>alcohol</th>\n",
              "      <th>not_distracted</th>\n",
              "      <th>no_previous</th>\n",
              "      <th>ins_premium</th>\n",
              "      <th>ins_losses</th>\n",
              "    </tr>\n",
              "  </thead>\n",
              "  <tbody>\n",
              "    <tr>\n",
              "      <th>Predicciones</th>\n",
              "      <td>1.000000</td>\n",
              "      <td>0.852613</td>\n",
              "      <td>0.669719</td>\n",
              "      <td>1.000000</td>\n",
              "      <td>0.732816</td>\n",
              "      <td>0.783520</td>\n",
              "      <td>0.170612</td>\n",
              "      <td>0.112547</td>\n",
              "    </tr>\n",
              "    <tr>\n",
              "      <th>total</th>\n",
              "      <td>0.852613</td>\n",
              "      <td>1.000000</td>\n",
              "      <td>0.611548</td>\n",
              "      <td>0.852613</td>\n",
              "      <td>0.827560</td>\n",
              "      <td>0.956179</td>\n",
              "      <td>0.199702</td>\n",
              "      <td>0.036011</td>\n",
              "    </tr>\n",
              "    <tr>\n",
              "      <th>speeding</th>\n",
              "      <td>0.669719</td>\n",
              "      <td>0.611548</td>\n",
              "      <td>1.000000</td>\n",
              "      <td>0.669719</td>\n",
              "      <td>0.588010</td>\n",
              "      <td>0.571976</td>\n",
              "      <td>0.077675</td>\n",
              "      <td>0.065928</td>\n",
              "    </tr>\n",
              "    <tr>\n",
              "      <th>alcohol</th>\n",
              "      <td>1.000000</td>\n",
              "      <td>0.852613</td>\n",
              "      <td>0.669719</td>\n",
              "      <td>1.000000</td>\n",
              "      <td>0.732816</td>\n",
              "      <td>0.783520</td>\n",
              "      <td>0.170612</td>\n",
              "      <td>0.112547</td>\n",
              "    </tr>\n",
              "    <tr>\n",
              "      <th>not_distracted</th>\n",
              "      <td>0.732816</td>\n",
              "      <td>0.827560</td>\n",
              "      <td>0.588010</td>\n",
              "      <td>0.732816</td>\n",
              "      <td>1.000000</td>\n",
              "      <td>0.747307</td>\n",
              "      <td>0.174856</td>\n",
              "      <td>0.075970</td>\n",
              "    </tr>\n",
              "    <tr>\n",
              "      <th>no_previous</th>\n",
              "      <td>0.783520</td>\n",
              "      <td>0.956179</td>\n",
              "      <td>0.571976</td>\n",
              "      <td>0.783520</td>\n",
              "      <td>0.747307</td>\n",
              "      <td>1.000000</td>\n",
              "      <td>0.156895</td>\n",
              "      <td>0.006359</td>\n",
              "    </tr>\n",
              "    <tr>\n",
              "      <th>ins_premium</th>\n",
              "      <td>0.170612</td>\n",
              "      <td>0.199702</td>\n",
              "      <td>0.077675</td>\n",
              "      <td>0.170612</td>\n",
              "      <td>0.174856</td>\n",
              "      <td>0.156895</td>\n",
              "      <td>1.000000</td>\n",
              "      <td>0.623116</td>\n",
              "    </tr>\n",
              "    <tr>\n",
              "      <th>ins_losses</th>\n",
              "      <td>0.112547</td>\n",
              "      <td>0.036011</td>\n",
              "      <td>0.065928</td>\n",
              "      <td>0.112547</td>\n",
              "      <td>0.075970</td>\n",
              "      <td>0.006359</td>\n",
              "      <td>0.623116</td>\n",
              "      <td>1.000000</td>\n",
              "    </tr>\n",
              "  </tbody>\n",
              "</table>\n",
              "</div>\n",
              "      <button class=\"colab-df-convert\" onclick=\"convertToInteractive('df-19721834-bdb9-40d3-8761-30e986176acb')\"\n",
              "              title=\"Convert this dataframe to an interactive table.\"\n",
              "              style=\"display:none;\">\n",
              "        \n",
              "  <svg xmlns=\"http://www.w3.org/2000/svg\" height=\"24px\"viewBox=\"0 0 24 24\"\n",
              "       width=\"24px\">\n",
              "    <path d=\"M0 0h24v24H0V0z\" fill=\"none\"/>\n",
              "    <path d=\"M18.56 5.44l.94 2.06.94-2.06 2.06-.94-2.06-.94-.94-2.06-.94 2.06-2.06.94zm-11 1L8.5 8.5l.94-2.06 2.06-.94-2.06-.94L8.5 2.5l-.94 2.06-2.06.94zm10 10l.94 2.06.94-2.06 2.06-.94-2.06-.94-.94-2.06-.94 2.06-2.06.94z\"/><path d=\"M17.41 7.96l-1.37-1.37c-.4-.4-.92-.59-1.43-.59-.52 0-1.04.2-1.43.59L10.3 9.45l-7.72 7.72c-.78.78-.78 2.05 0 2.83L4 21.41c.39.39.9.59 1.41.59.51 0 1.02-.2 1.41-.59l7.78-7.78 2.81-2.81c.8-.78.8-2.07 0-2.86zM5.41 20L4 18.59l7.72-7.72 1.47 1.35L5.41 20z\"/>\n",
              "  </svg>\n",
              "      </button>\n",
              "      \n",
              "  <style>\n",
              "    .colab-df-container {\n",
              "      display:flex;\n",
              "      flex-wrap:wrap;\n",
              "      gap: 12px;\n",
              "    }\n",
              "\n",
              "    .colab-df-convert {\n",
              "      background-color: #E8F0FE;\n",
              "      border: none;\n",
              "      border-radius: 50%;\n",
              "      cursor: pointer;\n",
              "      display: none;\n",
              "      fill: #1967D2;\n",
              "      height: 32px;\n",
              "      padding: 0 0 0 0;\n",
              "      width: 32px;\n",
              "    }\n",
              "\n",
              "    .colab-df-convert:hover {\n",
              "      background-color: #E2EBFA;\n",
              "      box-shadow: 0px 1px 2px rgba(60, 64, 67, 0.3), 0px 1px 3px 1px rgba(60, 64, 67, 0.15);\n",
              "      fill: #174EA6;\n",
              "    }\n",
              "\n",
              "    [theme=dark] .colab-df-convert {\n",
              "      background-color: #3B4455;\n",
              "      fill: #D2E3FC;\n",
              "    }\n",
              "\n",
              "    [theme=dark] .colab-df-convert:hover {\n",
              "      background-color: #434B5C;\n",
              "      box-shadow: 0px 1px 3px 1px rgba(0, 0, 0, 0.15);\n",
              "      filter: drop-shadow(0px 1px 2px rgba(0, 0, 0, 0.3));\n",
              "      fill: #FFFFFF;\n",
              "    }\n",
              "  </style>\n",
              "\n",
              "      <script>\n",
              "        const buttonEl =\n",
              "          document.querySelector('#df-19721834-bdb9-40d3-8761-30e986176acb button.colab-df-convert');\n",
              "        buttonEl.style.display =\n",
              "          google.colab.kernel.accessAllowed ? 'block' : 'none';\n",
              "\n",
              "        async function convertToInteractive(key) {\n",
              "          const element = document.querySelector('#df-19721834-bdb9-40d3-8761-30e986176acb');\n",
              "          const dataTable =\n",
              "            await google.colab.kernel.invokeFunction('convertToInteractive',\n",
              "                                                     [key], {});\n",
              "          if (!dataTable) return;\n",
              "\n",
              "          const docLinkHtml = 'Like what you see? Visit the ' +\n",
              "            '<a target=\"_blank\" href=https://colab.research.google.com/notebooks/data_table.ipynb>data table notebook</a>'\n",
              "            + ' to learn more about interactive tables.';\n",
              "          element.innerHTML = '';\n",
              "          dataTable['output_type'] = 'display_data';\n",
              "          await google.colab.output.renderOutput(dataTable, element);\n",
              "          const docLink = document.createElement('div');\n",
              "          docLink.innerHTML = docLinkHtml;\n",
              "          element.appendChild(docLink);\n",
              "        }\n",
              "      </script>\n",
              "    </div>\n",
              "  </div>\n",
              "  "
            ]
          },
          "metadata": {},
          "execution_count": 46
        }
      ]
    },
    {
      "cell_type": "code",
      "source": [
        "Heat_Map=sns.heatmap(Corr_factores1,cmap='coolwarm')\n",
        "Heat_Map"
      ],
      "metadata": {
        "colab": {
          "base_uri": "https://localhost:8080/",
          "height": 349
        },
        "id": "C8YtVCrP5PqD",
        "outputId": "9a43bca6-da76-47bd-d2b2-ae070cc164b9"
      },
      "execution_count": 47,
      "outputs": [
        {
          "output_type": "execute_result",
          "data": {
            "text/plain": [
              "<matplotlib.axes._subplots.AxesSubplot at 0x7f2dd5820210>"
            ]
          },
          "metadata": {},
          "execution_count": 47
        },
        {
          "output_type": "display_data",
          "data": {
            "text/plain": [
              "<Figure size 432x288 with 2 Axes>"
            ],
            "image/png": "[encoded data removed]"
          },
          "metadata": {
            "needs_background": "light"
          }
        }
      ]
    },
    {
      "cell_type": "code",
      "source": [
        "Heat_Map1=sns.heatmap(Corr_factores1,cmap='Blues', annot=True,fmt=\".2f\")\n",
        "Heat_Map1"
      ],
      "metadata": {
        "colab": {
          "base_uri": "https://localhost:8080/",
          "height": 349
        },
        "id": "Z9mIBKqK5emD",
        "outputId": "5e673531-bd78-4a66-c70b-d07a4ab87f14"
      },
      "execution_count": 54,
      "outputs": [
        {
          "output_type": "execute_result",
          "data": {
            "text/plain": [
              "<matplotlib.axes._subplots.AxesSubplot at 0x7f2dd3a53e10>"
            ]
          },
          "metadata": {},
          "execution_count": 54
        },
        {
          "output_type": "display_data",
          "data": {
            "text/plain": [
              "<Figure size 432x288 with 2 Axes>"
            ],
            "image/png": "[encoded data removed]"
          },
          "metadata": {
            "needs_background": "light"
          }
        }
      ]
    },
    {
      "cell_type": "markdown",
      "source": [
        "##FILTRO POR OBJETO"
      ],
      "metadata": {
        "id": "yfvGEFhM7IJ0"
      }
    },
    {
      "cell_type": "code",
      "source": [
        "filtro1=df[df['abbrev']=='ME']\n",
        "filtro1"
      ],
      "metadata": {
        "colab": {
          "base_uri": "https://localhost:8080/",
          "height": 81
        },
        "id": "jiyLUc0R7J8h",
        "outputId": "0d5fb0ea-c032-453f-9619-ec3a1a1afb7b"
      },
      "execution_count": 56,
      "outputs": [
        {
          "output_type": "execute_result",
          "data": {
            "text/plain": [
              "    Predicciones  total  speeding  alcohol  not_distracted  no_previous  \\\n",
              "19      15.06503   15.1     5.738     4.53          13.137       12.684   \n",
              "\n",
              "    ins_premium  ins_losses abbrev  \n",
              "19       661.88       96.57     ME  "
            ],
            "text/html": [
              "\n",
              "  <div id=\"df-9239ac8e-c9ef-4eca-a84b-1ec6a6738950\">\n",
              "    <div class=\"colab-df-container\">\n",
              "      <div>\n",
              "<style scoped>\n",
              "    .dataframe tbody tr th:only-of-type {\n",
              "        vertical-align: middle;\n",
              "    }\n",
              "\n",
              "    .dataframe tbody tr th {\n",
              "        vertical-align: top;\n",
              "    }\n",
              "\n",
              "    .dataframe thead th {\n",
              "        text-align: right;\n",
              "    }\n",
              "</style>\n",
              "<table border=\"1\" class=\"dataframe\">\n",
              "  <thead>\n",
              "    <tr style=\"text-align: right;\">\n",
              "      <th></th>\n",
              "      <th>Predicciones</th>\n",
              "      <th>total</th>\n",
              "      <th>speeding</th>\n",
              "      <th>alcohol</th>\n",
              "      <th>not_distracted</th>\n",
              "      <th>no_previous</th>\n",
              "      <th>ins_premium</th>\n",
              "      <th>ins_losses</th>\n",
              "      <th>abbrev</th>\n",
              "    </tr>\n",
              "  </thead>\n",
              "  <tbody>\n",
              "    <tr>\n",
              "      <th>19</th>\n",
              "      <td>15.06503</td>\n",
              "      <td>15.1</td>\n",
              "      <td>5.738</td>\n",
              "      <td>4.53</td>\n",
              "      <td>13.137</td>\n",
              "      <td>12.684</td>\n",
              "      <td>661.88</td>\n",
              "      <td>96.57</td>\n",
              "      <td>ME</td>\n",
              "    </tr>\n",
              "  </tbody>\n",
              "</table>\n",
              "</div>\n",
              "      <button class=\"colab-df-convert\" onclick=\"convertToInteractive('df-9239ac8e-c9ef-4eca-a84b-1ec6a6738950')\"\n",
              "              title=\"Convert this dataframe to an interactive table.\"\n",
              "              style=\"display:none;\">\n",
              "        \n",
              "  <svg xmlns=\"http://www.w3.org/2000/svg\" height=\"24px\"viewBox=\"0 0 24 24\"\n",
              "       width=\"24px\">\n",
              "    <path d=\"M0 0h24v24H0V0z\" fill=\"none\"/>\n",
              "    <path d=\"M18.56 5.44l.94 2.06.94-2.06 2.06-.94-2.06-.94-.94-2.06-.94 2.06-2.06.94zm-11 1L8.5 8.5l.94-2.06 2.06-.94-2.06-.94L8.5 2.5l-.94 2.06-2.06.94zm10 10l.94 2.06.94-2.06 2.06-.94-2.06-.94-.94-2.06-.94 2.06-2.06.94z\"/><path d=\"M17.41 7.96l-1.37-1.37c-.4-.4-.92-.59-1.43-.59-.52 0-1.04.2-1.43.59L10.3 9.45l-7.72 7.72c-.78.78-.78 2.05 0 2.83L4 21.41c.39.39.9.59 1.41.59.51 0 1.02-.2 1.41-.59l7.78-7.78 2.81-2.81c.8-.78.8-2.07 0-2.86zM5.41 20L4 18.59l7.72-7.72 1.47 1.35L5.41 20z\"/>\n",
              "  </svg>\n",
              "      </button>\n",
              "      \n",
              "  <style>\n",
              "    .colab-df-container {\n",
              "      display:flex;\n",
              "      flex-wrap:wrap;\n",
              "      gap: 12px;\n",
              "    }\n",
              "\n",
              "    .colab-df-convert {\n",
              "      background-color: #E8F0FE;\n",
              "      border: none;\n",
              "      border-radius: 50%;\n",
              "      cursor: pointer;\n",
              "      display: none;\n",
              "      fill: #1967D2;\n",
              "      height: 32px;\n",
              "      padding: 0 0 0 0;\n",
              "      width: 32px;\n",
              "    }\n",
              "\n",
              "    .colab-df-convert:hover {\n",
              "      background-color: #E2EBFA;\n",
              "      box-shadow: 0px 1px 2px rgba(60, 64, 67, 0.3), 0px 1px 3px 1px rgba(60, 64, 67, 0.15);\n",
              "      fill: #174EA6;\n",
              "    }\n",
              "\n",
              "    [theme=dark] .colab-df-convert {\n",
              "      background-color: #3B4455;\n",
              "      fill: #D2E3FC;\n",
              "    }\n",
              "\n",
              "    [theme=dark] .colab-df-convert:hover {\n",
              "      background-color: #434B5C;\n",
              "      box-shadow: 0px 1px 3px 1px rgba(0, 0, 0, 0.15);\n",
              "      filter: drop-shadow(0px 1px 2px rgba(0, 0, 0, 0.3));\n",
              "      fill: #FFFFFF;\n",
              "    }\n",
              "  </style>\n",
              "\n",
              "      <script>\n",
              "        const buttonEl =\n",
              "          document.querySelector('#df-9239ac8e-c9ef-4eca-a84b-1ec6a6738950 button.colab-df-convert');\n",
              "        buttonEl.style.display =\n",
              "          google.colab.kernel.accessAllowed ? 'block' : 'none';\n",
              "\n",
              "        async function convertToInteractive(key) {\n",
              "          const element = document.querySelector('#df-9239ac8e-c9ef-4eca-a84b-1ec6a6738950');\n",
              "          const dataTable =\n",
              "            await google.colab.kernel.invokeFunction('convertToInteractive',\n",
              "                                                     [key], {});\n",
              "          if (!dataTable) return;\n",
              "\n",
              "          const docLinkHtml = 'Like what you see? Visit the ' +\n",
              "            '<a target=\"_blank\" href=https://colab.research.google.com/notebooks/data_table.ipynb>data table notebook</a>'\n",
              "            + ' to learn more about interactive tables.';\n",
              "          element.innerHTML = '';\n",
              "          dataTable['output_type'] = 'display_data';\n",
              "          await google.colab.output.renderOutput(dataTable, element);\n",
              "          const docLink = document.createElement('div');\n",
              "          docLink.innerHTML = docLinkHtml;\n",
              "          element.appendChild(docLink);\n",
              "        }\n",
              "      </script>\n",
              "    </div>\n",
              "  </div>\n",
              "  "
            ]
          },
          "metadata": {},
          "execution_count": 56
        }
      ]
    }
  ]
}